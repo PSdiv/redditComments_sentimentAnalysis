{
  "nbformat": 4,
  "nbformat_minor": 0,
  "metadata": {
    "colab": {
      "name": "redditComments_SentimentAnalysis",
      "provenance": [],
      "collapsed_sections": [
        "WlttzOt2qZSM",
        "YrBPyevCxtII",
        "DuX1-q5m1xaD",
        "f1BXgIlh37X2",
        "jPG7PnNv3rd_",
        "0feR_BzPDYXv",
        "jMYA5jhl4lho",
        "1ubksDcw4pl8",
        "--C1e7t_TDTZ",
        "bG0wQQTgXL8v",
        "2yOlkVYVCQWV",
        "MDq88k_jCnlg",
        "A3RIPU0x-Q_5",
        "aRc-g06O-vDG",
        "fAZqMzPOCKol",
        "G0_u9jpcLy55",
        "3fW7vPuwVNjl",
        "k2MAYvJD8DJR",
        "pVMWj-04AVKG",
        "EP9WmbQSApso",
        "INJojHAllrKj",
        "AJJOs56cDWgb",
        "lQZiB-_biha6",
        "zaOnoZ5psUyE",
        "3wSMGHahsack",
        "wkZ61Oz73RWd",
        "egfFaq_fOB96",
        "Uus1nF01hUNP",
        "W5b4mjrlKExl",
        "YWGsgT7LzwZv",
        "oKNl__VyBQv5",
        "FRcS7uvluolB",
        "haqLeOCqu3Sh",
        "NhO8uvbd0J76",
        "d3ZXnKKtdvrQ"
      ]
    },
    "kernelspec": {
      "name": "python3",
      "display_name": "Python 3"
    }
  },
  "cells": [
    {
      "cell_type": "markdown",
      "metadata": {
        "id": "JsjbHfo4c2p9"
      },
      "source": [
        "#reddit comments Sentiment Analysis\n",
        "\n",
        "Author: Sridivya Pagadala "
      ]
    },
    {
      "cell_type": "code",
      "metadata": {
        "id": "fEtgp6QZcqbm",
        "outputId": "dc5e4153-62c0-48d2-f00c-b19513be5df8",
        "colab": {
          "base_uri": "https://localhost:8080/",
          "height": 51
        }
      },
      "source": [
        "import pandas as pd\n",
        "import numpy as np\n",
        "import matplotlib.pyplot as plt\n",
        "%matplotlib inline\n",
        "import seaborn as sns\n",
        "import nltk\n",
        "\n",
        "nltk.download('stopwords')\n",
        "from nltk.corpus import stopwords\n",
        "from sklearn.feature_extraction.text import CountVectorizer"
      ],
      "execution_count": null,
      "outputs": [
        {
          "output_type": "stream",
          "text": [
            "[nltk_data] Downloading package stopwords to /root/nltk_data...\n",
            "[nltk_data]   Package stopwords is already up-to-date!\n"
          ],
          "name": "stdout"
        }
      ]
    },
    {
      "cell_type": "code",
      "metadata": {
        "id": "AwuL1Vf3dWgF"
      },
      "source": [
        "train=pd.read_csv(\"/content/reddit_200k_train.csv\",encoding = \"ISO-8859-1\")\n",
        "test=pd.read_csv(\"https://raw.githubusercontent.com/PSdiv/reddit/master/reddit_200k_test.csv\",encoding = \"ISO-8859-1\")"
      ],
      "execution_count": null,
      "outputs": []
    },
    {
      "cell_type": "code",
      "metadata": {
        "id": "Zat1E6RNd0Ic",
        "outputId": "ad20bc98-808d-427f-c2fe-7cacd191d78d",
        "colab": {
          "base_uri": "https://localhost:8080/",
          "height": 204
        }
      },
      "source": [
        "train.head()"
      ],
      "execution_count": null,
      "outputs": [
        {
          "output_type": "execute_result",
          "data": {
            "text/html": [
              "<div>\n",
              "<style scoped>\n",
              "    .dataframe tbody tr th:only-of-type {\n",
              "        vertical-align: middle;\n",
              "    }\n",
              "\n",
              "    .dataframe tbody tr th {\n",
              "        vertical-align: top;\n",
              "    }\n",
              "\n",
              "    .dataframe thead th {\n",
              "        text-align: right;\n",
              "    }\n",
              "</style>\n",
              "<table border=\"1\" class=\"dataframe\">\n",
              "  <thead>\n",
              "    <tr style=\"text-align: right;\">\n",
              "      <th></th>\n",
              "      <th>Unnamed: 0</th>\n",
              "      <th>body</th>\n",
              "      <th>score.x</th>\n",
              "      <th>parent_id.x</th>\n",
              "      <th>id</th>\n",
              "      <th>created_utc.x</th>\n",
              "      <th>retrieved_on</th>\n",
              "      <th>REMOVED</th>\n",
              "    </tr>\n",
              "  </thead>\n",
              "  <tbody>\n",
              "    <tr>\n",
              "      <th>0</th>\n",
              "      <td>1</td>\n",
              "      <td>I've always been taught it emerged from the ea...</td>\n",
              "      <td>2</td>\n",
              "      <td>t3_81u15i</td>\n",
              "      <td>dv551g6</td>\n",
              "      <td>1520121101</td>\n",
              "      <td>1524782256</td>\n",
              "      <td>False</td>\n",
              "    </tr>\n",
              "    <tr>\n",
              "      <th>1</th>\n",
              "      <td>2</td>\n",
              "      <td>As an ECE, my first feeling as \"HEY THAT'S NOT...</td>\n",
              "      <td>2</td>\n",
              "      <td>t3_72sk35</td>\n",
              "      <td>dnl66g6</td>\n",
              "      <td>1506533157</td>\n",
              "      <td>1507150439</td>\n",
              "      <td>True</td>\n",
              "    </tr>\n",
              "    <tr>\n",
              "      <th>2</th>\n",
              "      <td>3</td>\n",
              "      <td>Monday: Drug companies stock dives on good new...</td>\n",
              "      <td>5</td>\n",
              "      <td>t3_8o88yr</td>\n",
              "      <td>e02sjhz</td>\n",
              "      <td>1528087570</td>\n",
              "      <td>1532170350</td>\n",
              "      <td>True</td>\n",
              "    </tr>\n",
              "    <tr>\n",
              "      <th>3</th>\n",
              "      <td>4</td>\n",
              "      <td>i learned that all hybrids are unfertile i won...</td>\n",
              "      <td>0</td>\n",
              "      <td>t3_6xg9t8</td>\n",
              "      <td>dmfojjp</td>\n",
              "      <td>1504290041</td>\n",
              "      <td>1506407514</td>\n",
              "      <td>False</td>\n",
              "    </tr>\n",
              "    <tr>\n",
              "      <th>4</th>\n",
              "      <td>5</td>\n",
              "      <td>Well i was wanting to get wasted tonight.  Not...</td>\n",
              "      <td>3</td>\n",
              "      <td>t3_99wi9m</td>\n",
              "      <td>e4rtew8</td>\n",
              "      <td>1535140675</td>\n",
              "      <td>1537893540</td>\n",
              "      <td>False</td>\n",
              "    </tr>\n",
              "  </tbody>\n",
              "</table>\n",
              "</div>"
            ],
            "text/plain": [
              "   Unnamed: 0  ... REMOVED\n",
              "0           1  ...   False\n",
              "1           2  ...    True\n",
              "2           3  ...    True\n",
              "3           4  ...   False\n",
              "4           5  ...   False\n",
              "\n",
              "[5 rows x 8 columns]"
            ]
          },
          "metadata": {
            "tags": []
          },
          "execution_count": 8
        }
      ]
    },
    {
      "cell_type": "code",
      "metadata": {
        "id": "sUtSiVVZv-Y7",
        "outputId": "71d9067d-1555-49a2-f323-3c4de9790c82",
        "colab": {
          "base_uri": "https://localhost:8080/",
          "height": 34
        }
      },
      "source": [
        "train.shape,test.shape"
      ],
      "execution_count": null,
      "outputs": [
        {
          "output_type": "execute_result",
          "data": {
            "text/plain": [
              "((167529, 8), (55843, 8))"
            ]
          },
          "metadata": {
            "tags": []
          },
          "execution_count": 9
        }
      ]
    },
    {
      "cell_type": "markdown",
      "metadata": {
        "id": "WlttzOt2qZSM"
      },
      "source": [
        "#EDA"
      ]
    },
    {
      "cell_type": "markdown",
      "metadata": {
        "id": "dZiLOilivLrZ"
      },
      "source": [
        "###Class distribution"
      ]
    },
    {
      "cell_type": "code",
      "metadata": {
        "id": "U8Z053Ptt41o",
        "outputId": "f2902026-048b-451b-bf5e-10741df8f217",
        "colab": {
          "base_uri": "https://localhost:8080/"
        }
      },
      "source": [
        "sns.countplot(train['REMOVED'])\n",
        "plt.ylabel('Number of examples')\n",
        "plt.title('Propertion of examples')\n",
        "plt.show()"
      ],
      "execution_count": null,
      "outputs": [
        {
          "output_type": "display_data",
          "data": {
            "image/png": "[encoded data removed]",
            "text/plain": [
              "<Figure size 432x288 with 1 Axes>"
            ]
          },
          "metadata": {
            "tags": [],
            "needs_background": "light"
          }
        }
      ]
    },
    {
      "cell_type": "markdown",
      "metadata": {
        "id": "YrBPyevCxtII"
      },
      "source": [
        "###Wordcloud for Removed comments"
      ]
    },
    {
      "cell_type": "code",
      "metadata": {
        "id": "uHrajS4-yu-n"
      },
      "source": [
        "wordtext = \" \".join(text for text in train[train['REMOVED']==True]['body'])"
      ],
      "execution_count": null,
      "outputs": []
    },
    {
      "cell_type": "code",
      "metadata": {
        "id": "RhdGlseI1i-j",
        "outputId": "912d4882-d8ad-4e00-8e5c-edc5ab2a676a",
        "colab": {
          "base_uri": "https://localhost:8080/"
        }
      },
      "source": [
        "len(wordtext)"
      ],
      "execution_count": null,
      "outputs": [
        {
          "output_type": "execute_result",
          "data": {
            "text/plain": [
              "10179568"
            ]
          },
          "metadata": {
            "tags": []
          },
          "execution_count": 12
        }
      ]
    },
    {
      "cell_type": "code",
      "metadata": {
        "id": "yke_fpLSKaQ2"
      },
      "source": [
        "from wordcloud import WordCloud, STOPWORDS, ImageColorGenerator\n",
        "#Removing some words which are very frequent\n",
        "STOPWORDS.add('people')\n",
        "STOPWORDS.add('think')\n",
        "STOPWORDS.add('one')\n",
        "STOPWORDS.add('work')\n",
        "STOPWORDS.add('will')\n",
        "STOPWORDS.add('thing')\n",
        "STOPWORDS.add('make')\n",
        "STOPWORDS.add('time')\n",
        "STOPWORDS.add('even')\n",
        "STOPWORDS.add('know')\n",
        "STOPWORDS.add('study')\n",
        "STOPWORDS.add('way')\n",
        "STOPWORDS.add('mean')\n",
        "STOPWORDS.add('need')\n",
        "STOPWORDS.add('human')\n",
        "STOPWORDS.add('now')\n",
        "STOPWORDS.add('say')\n",
        "STOPWORDS.add('really')"
      ],
      "execution_count": null,
      "outputs": []
    },
    {
      "cell_type": "code",
      "metadata": {
        "id": "oL7dQ328x5iZ",
        "outputId": "5f1b0127-e11a-484c-cebf-00f7bf69adb2",
        "colab": {
          "base_uri": "https://localhost:8080/"
        }
      },
      "source": [
        "# Generating the wordcloud with the values under the category dataframe\n",
        "plt.figure(figsize=(12,8))\n",
        "word_cloud = WordCloud(stopwords=STOPWORDS, background_color=\"white\").generate(wordtext)\n",
        "plt.imshow(word_cloud)\n",
        "plt.axis('off')\n",
        "plt.show()"
      ],
      "execution_count": null,
      "outputs": [
        {
          "output_type": "display_data",
          "data": {
            "image/png": "[encoded data removed]",
            "text/plain": [
              "<Figure size 864x576 with 1 Axes>"
            ]
          },
          "metadata": {
            "tags": [],
            "needs_background": "light"
          }
        }
      ]
    },
    {
      "cell_type": "markdown",
      "metadata": {
        "id": "Fm2y5ppDzjPi"
      },
      "source": [
        "###Wordcloud for Safe comments"
      ]
    },
    {
      "cell_type": "code",
      "metadata": {
        "id": "7mX3rTqczx8R"
      },
      "source": [
        "wordtext = \" \".join(text for text in train[train['REMOVED']==False]['body'])"
      ],
      "execution_count": null,
      "outputs": []
    },
    {
      "cell_type": "code",
      "metadata": {
        "id": "Z0CiZsKj1gY4",
        "outputId": "327201f6-9197-467b-de61-705db73e6309",
        "colab": {
          "base_uri": "https://localhost:8080/"
        }
      },
      "source": [
        "len(wordtext)"
      ],
      "execution_count": null,
      "outputs": [
        {
          "output_type": "execute_result",
          "data": {
            "text/plain": [
              "30140797"
            ]
          },
          "metadata": {
            "tags": []
          },
          "execution_count": 16
        }
      ]
    },
    {
      "cell_type": "code",
      "metadata": {
        "id": "WqzPkbzdzlp-",
        "outputId": "14fb6d09-0479-4b2a-c52f-c725616effce",
        "colab": {
          "base_uri": "https://localhost:8080/"
        }
      },
      "source": [
        "from wordcloud import WordCloud, STOPWORDS, ImageColorGenerator\n",
        "# Generating the wordcloud with the values under the category dataframe\n",
        "plt.figure(figsize=(12,8))\n",
        "word_cloud = WordCloud(stopwords=STOPWORDS, background_color=\"white\").generate(wordtext)\n",
        "plt.imshow(word_cloud)\n",
        "plt.axis('off')\n",
        "plt.show()"
      ],
      "execution_count": null,
      "outputs": [
        {
          "output_type": "display_data",
          "data": {
            "image/png": "[encoded data removed]",
            "text/plain": [
              "<Figure size 864x576 with 1 Axes>"
            ]
          },
          "metadata": {
            "tags": [],
            "needs_background": "light"
          }
        }
      ]
    },
    {
      "cell_type": "markdown",
      "metadata": {
        "id": "DuX1-q5m1xaD"
      },
      "source": [
        "###Word distribution in comments"
      ]
    },
    {
      "cell_type": "code",
      "metadata": {
        "id": "EDByDqqj14fk"
      },
      "source": [
        "wordsTrue_len=train[train['REMOVED']==True]['body'].str.split().map(lambda x: len(x))\n",
        "wordsFalse_len=train[train['REMOVED']==False]['body'].str.split().map(lambda x: len(x))"
      ],
      "execution_count": null,
      "outputs": []
    },
    {
      "cell_type": "code",
      "metadata": {
        "id": "9afnwWm22QC1",
        "outputId": "9e0db12e-2459-4eed-a33c-7120a5a547db",
        "colab": {
          "base_uri": "https://localhost:8080/"
        }
      },
      "source": [
        "fig,(ax1,ax2)=plt.subplots(1,2,figsize=(10,5))\n",
        "ax1.hist(wordsTrue_len,color='blue')\n",
        "ax1.set_title('Removed is True words')\n",
        "ax2.hist(wordsFalse_len,color='orange')\n",
        "ax2.set_title('Removed is False words')\n",
        "fig.suptitle('Words in comments')\n",
        "plt.tight_layout()"
      ],
      "execution_count": null,
      "outputs": [
        {
          "output_type": "display_data",
          "data": {
            "image/png": "[encoded data removed]",
            "text/plain": [
              "<Figure size 720x360 with 2 Axes>"
            ]
          },
          "metadata": {
            "tags": [],
            "needs_background": "light"
          }
        }
      ]
    },
    {
      "cell_type": "markdown",
      "metadata": {
        "id": "f1BXgIlh37X2"
      },
      "source": [
        "###Character Distribution"
      ]
    },
    {
      "cell_type": "code",
      "metadata": {
        "id": "ugbPWXfp3_RB"
      },
      "source": [
        "CharTrue_len=train[train['REMOVED']==True]['body'].apply(lambda x: len(x))\n",
        "CharFalse_len=train[train['REMOVED']==False]['body'].apply(lambda x: len(x))"
      ],
      "execution_count": null,
      "outputs": []
    },
    {
      "cell_type": "code",
      "metadata": {
        "id": "5cxYNzrz4d7q",
        "outputId": "db1dd37f-8f17-4618-f9bf-be10081913f3",
        "colab": {
          "base_uri": "https://localhost:8080/"
        }
      },
      "source": [
        "fig,(ax1,ax2)=plt.subplots(1,2,figsize=(10,5))\n",
        "ax1.hist(CharTrue_len,color='blue')\n",
        "ax1.set_title('True comment length')\n",
        "ax2.hist(CharFalse_len,color='orange')\n",
        "ax2.set_title('False comment length')\n",
        "fig.suptitle('Length of comments')\n",
        "plt.tight_layout()"
      ],
      "execution_count": null,
      "outputs": [
        {
          "output_type": "display_data",
          "data": {
            "image/png": "[encoded data removed]",
            "text/plain": [
              "<Figure size 720x360 with 2 Axes>"
            ]
          },
          "metadata": {
            "tags": [],
            "needs_background": "light"
          }
        }
      ]
    },
    {
      "cell_type": "markdown",
      "metadata": {
        "id": "jPG7PnNv3rd_"
      },
      "source": [
        "###Punctuations in comments"
      ]
    },
    {
      "cell_type": "code",
      "metadata": {
        "id": "mSvgI6M-5Fs5"
      },
      "source": [
        "def create_corpus_punc(target):\n",
        "    corpus=[]\n",
        "    for x in train[train['REMOVED']==target]['body'].str.split():\n",
        "        for i in x:\n",
        "            corpus.append(i)\n",
        "    return corpus"
      ],
      "execution_count": null,
      "outputs": []
    },
    {
      "cell_type": "code",
      "metadata": {
        "id": "IGyzPEPx5Z4M"
      },
      "source": [
        "corpus_1=create_corpus_punc(True)\n",
        "corpus_0=create_corpus_punc(False)"
      ],
      "execution_count": null,
      "outputs": []
    },
    {
      "cell_type": "code",
      "metadata": {
        "id": "RKPeViRi31dH"
      },
      "source": [
        "from collections import defaultdict\n",
        "import string\n",
        "dic_1=defaultdict(int)\n",
        "dic_0=defaultdict(int)\n",
        "special = string.punctuation\n",
        "for i in (corpus_1):\n",
        "    if i in special:\n",
        "        dic_1[i]+=1\n",
        "for i in (corpus_0):\n",
        "    if i in special:\n",
        "        dic_0[i]+=1       \n",
        "x_1,y_1=zip(*dic_1.items())\n",
        "x_0,y_0=zip(*dic_0.items())"
      ],
      "execution_count": null,
      "outputs": []
    },
    {
      "cell_type": "code",
      "metadata": {
        "id": "GExpjfbC67df",
        "outputId": "e5ef8d30-2c72-4b24-dfb2-6c5af3edacec",
        "colab": {
          "base_uri": "https://localhost:8080/"
        }
      },
      "source": [
        "fig,(ax1,ax2)=plt.subplots(1,2,figsize=(10,5))\n",
        "ax1.bar(x_1,y_1)\n",
        "ax1.set_title(\"True comments\")\n",
        "ax2.bar(x_0,y_0)\n",
        "ax2.set_title(\"False comments\")\n",
        "plt.suptitle(\"Punctuations counts\")\n",
        "plt.tight_layout()"
      ],
      "execution_count": null,
      "outputs": [
        {
          "output_type": "display_data",
          "data": {
            "image/png": "[encoded data removed]",
            "text/plain": [
              "<Figure size 720x360 with 2 Axes>"
            ]
          },
          "metadata": {
            "tags": [],
            "needs_background": "light"
          }
        }
      ]
    },
    {
      "cell_type": "markdown",
      "metadata": {
        "id": "81GejShb9rkb"
      },
      "source": [
        "###URL Distribution"
      ]
    },
    {
      "cell_type": "code",
      "metadata": {
        "id": "n1dlCDTI-KSa"
      },
      "source": [
        "import re\n",
        "def count_URL(text):\n",
        "    url = re.compile(r'https?://\\S+|www\\.\\S+')\n",
        "    # url.sub(r'',text) this is for removing URL\n",
        "    return len(url.findall(text))"
      ],
      "execution_count": null,
      "outputs": []
    },
    {
      "cell_type": "code",
      "metadata": {
        "id": "znfWSAIS_PVX"
      },
      "source": [
        "URLTrue_len=train[train['REMOVED']==True]['body'].apply(lambda x: count_URL(x))\n",
        "URLFalse_len=train[train['REMOVED']==False]['body'].apply(lambda x: count_URL(x))"
      ],
      "execution_count": null,
      "outputs": []
    },
    {
      "cell_type": "code",
      "metadata": {
        "id": "gDEgju0FBZxR"
      },
      "source": [
        "countdict= dict(zip(['False','True'],[URLFalse_len.sum(),URLTrue_len.sum()]))"
      ],
      "execution_count": null,
      "outputs": []
    },
    {
      "cell_type": "code",
      "metadata": {
        "id": "ODWd-QTO-nCQ",
        "outputId": "c05f0e25-8267-45db-b831-54f51de1915b",
        "colab": {
          "base_uri": "https://localhost:8080/"
        }
      },
      "source": [
        "# fig,ax=plt.subplot()\n",
        "plt.bar(countdict.keys(),height=countdict.values())\n",
        "plt.title(\"URLs in Comments\")\n",
        "plt.tight_layout()"
      ],
      "execution_count": null,
      "outputs": [
        {
          "output_type": "display_data",
          "data": {
            "image/png": "[encoded data removed]",
            "text/plain": [
              "<Figure size 432x288 with 1 Axes>"
            ]
          },
          "metadata": {
            "tags": [],
            "needs_background": "light"
          }
        }
      ]
    },
    {
      "cell_type": "markdown",
      "metadata": {
        "id": "0feR_BzPDYXv"
      },
      "source": [
        "###Words that are capital letters"
      ]
    },
    {
      "cell_type": "code",
      "metadata": {
        "id": "4ljyXSDIAcSP"
      },
      "source": [
        "def countUpper(text):\n",
        "  count=0\n",
        "  for word in text.split():\n",
        "    if word.isupper():\n",
        "      count+=1\n",
        "  return count"
      ],
      "execution_count": null,
      "outputs": []
    },
    {
      "cell_type": "code",
      "metadata": {
        "id": "oOeBr-JrEcvp"
      },
      "source": [
        "CapsTrue_len=train[train['REMOVED']==True]['body'].apply(lambda x: countUpper(x))\n",
        "CapsFalse_len=train[train['REMOVED']==False]['body'].apply(lambda x: countUpper(x))\n",
        "CapWords_train=train['body'].apply(lambda x: countUpper(x))\n",
        "CapWords_test=test['body'].apply(lambda x: countUpper(x))"
      ],
      "execution_count": null,
      "outputs": []
    },
    {
      "cell_type": "code",
      "metadata": {
        "id": "a0d8pe4nBx8x"
      },
      "source": [
        "countdict= dict(zip(['False','True'],[CapsTrue_len.sum(),CapsFalse_len.sum()]))"
      ],
      "execution_count": null,
      "outputs": []
    },
    {
      "cell_type": "code",
      "metadata": {
        "id": "-BIAhEmtEIrK",
        "outputId": "f779ba66-dc8d-4d17-a96d-61628dc9ad20",
        "colab": {
          "base_uri": "https://localhost:8080/"
        }
      },
      "source": [
        "plt.bar(countdict.keys(),height=countdict.values())\n",
        "plt.title(\"Capital letter words in Comments\")\n",
        "plt.tight_layout()"
      ],
      "execution_count": null,
      "outputs": [
        {
          "output_type": "display_data",
          "data": {
            "image/png": "[encoded data removed]",
            "text/plain": [
              "<Figure size 432x288 with 1 Axes>"
            ]
          },
          "metadata": {
            "tags": [],
            "needs_background": "light"
          }
        }
      ]
    },
    {
      "cell_type": "markdown",
      "metadata": {
        "id": "ts0-mpcVCagE"
      },
      "source": [
        "###HTML tags in comments"
      ]
    },
    {
      "cell_type": "code",
      "metadata": {
        "id": "59YM25buCeQY"
      },
      "source": [
        "import re\n",
        "def count_html(text):\n",
        "    html=re.compile(r'<.*?>')\n",
        "    # return html.sub(r'',text)\n",
        "    return len(html.findall(text))\n"
      ],
      "execution_count": null,
      "outputs": []
    },
    {
      "cell_type": "code",
      "metadata": {
        "id": "qGBm03UGWI43"
      },
      "source": [
        "HtmlTrue_len=train[train['REMOVED']==True]['body'].apply(lambda x: count_html(x))\n",
        "HtmlFalse_len=train[train['REMOVED']==False]['body'].apply(lambda x: count_html(x))"
      ],
      "execution_count": null,
      "outputs": []
    },
    {
      "cell_type": "code",
      "metadata": {
        "id": "R9Arw37EWT8s"
      },
      "source": [
        "countdict= dict(zip(['False','True'],[HtmlFalse_len.sum(),HtmlTrue_len.sum()]))"
      ],
      "execution_count": null,
      "outputs": []
    },
    {
      "cell_type": "code",
      "metadata": {
        "id": "9sWtu6oPWYgG",
        "outputId": "766f78aa-d34a-4417-ca4f-7032a0e856da",
        "colab": {
          "base_uri": "https://localhost:8080/"
        }
      },
      "source": [
        "# fig,ax=plt.subplot()\n",
        "plt.bar(countdict.keys(),height=countdict.values())\n",
        "plt.title(\"Htmls in Comments\")\n",
        "plt.tight_layout()"
      ],
      "execution_count": null,
      "outputs": [
        {
          "output_type": "display_data",
          "data": {
            "image/png": "[encoded data removed]",
            "text/plain": [
              "<Figure size 432x288 with 1 Axes>"
            ]
          },
          "metadata": {
            "tags": [],
            "needs_background": "light"
          }
        }
      ]
    },
    {
      "cell_type": "markdown",
      "metadata": {
        "id": "jMYA5jhl4lho"
      },
      "source": [
        "#Adding more features"
      ]
    },
    {
      "cell_type": "markdown",
      "metadata": {
        "id": "1ubksDcw4pl8"
      },
      "source": [
        "###Punctation count as a feature"
      ]
    },
    {
      "cell_type": "code",
      "metadata": {
        "id": "AohnXZST4pHl"
      },
      "source": [
        "import string\n",
        "def count_punc(text):\n",
        "  words= text.split()\n",
        "  count=0\n",
        "  for w in words:\n",
        "    for c in w:\n",
        "      if c in string.punctuation:\n",
        "        count+=1\n",
        "  return count"
      ],
      "execution_count": null,
      "outputs": []
    },
    {
      "cell_type": "code",
      "metadata": {
        "id": "X1YxCiAcP9JU"
      },
      "source": [
        "train['punctuations']= train['body'].apply(lambda x:count_punc(x) )\n",
        "test['punctuations']= test['body'].apply(lambda x:count_punc(x) )"
      ],
      "execution_count": null,
      "outputs": []
    },
    {
      "cell_type": "markdown",
      "metadata": {
        "id": "--C1e7t_TDTZ"
      },
      "source": [
        "###URL count as Feature"
      ]
    },
    {
      "cell_type": "code",
      "metadata": {
        "id": "ijAjVWx1WVWg"
      },
      "source": [
        "train['URL']=train['body'].apply(lambda x: count_URL(x))\n",
        "test['URL']=test['body'].apply(lambda x: count_URL(x))"
      ],
      "execution_count": null,
      "outputs": []
    },
    {
      "cell_type": "markdown",
      "metadata": {
        "id": "hudazwc5Wu_0"
      },
      "source": [
        "###HTML text as Feature"
      ]
    },
    {
      "cell_type": "code",
      "metadata": {
        "id": "21s4a5tKWuVf"
      },
      "source": [
        "train['HTML']=train['body'].apply(lambda x: count_html(x))\n",
        "test['HTML']=test['body'].apply(lambda x: count_html(x))"
      ],
      "execution_count": null,
      "outputs": []
    },
    {
      "cell_type": "markdown",
      "metadata": {
        "id": "bG0wQQTgXL8v"
      },
      "source": [
        "###Capital letter words as Features"
      ]
    },
    {
      "cell_type": "code",
      "metadata": {
        "id": "GtjOQXKIYG0a"
      },
      "source": [
        "train[\"capWords\"]= CapWords_train\n",
        "test[\"capWords\"]= CapWords_test"
      ],
      "execution_count": null,
      "outputs": []
    },
    {
      "cell_type": "markdown",
      "metadata": {
        "id": "2yOlkVYVCQWV"
      },
      "source": [
        "###Character length as Feature"
      ]
    },
    {
      "cell_type": "code",
      "metadata": {
        "id": "vQJIK_9mCWK4"
      },
      "source": [
        "train['charLen']= train['body'].apply(len)\n",
        "test['charLen']= test['body'].apply(len)"
      ],
      "execution_count": null,
      "outputs": []
    },
    {
      "cell_type": "markdown",
      "metadata": {
        "id": "MDq88k_jCnlg"
      },
      "source": [
        "###Word count as Feature"
      ]
    },
    {
      "cell_type": "code",
      "metadata": {
        "id": "Fyzf-lvgCc50"
      },
      "source": [
        "train['wordCount']= train['body'].apply(lambda x: len(x.split()))\n",
        "test['wordCount']= test['body'].apply(lambda x: len(x.split()))"
      ],
      "execution_count": null,
      "outputs": []
    },
    {
      "cell_type": "code",
      "metadata": {
        "id": "luMGSHUpC1Fi",
        "outputId": "4d02dc8b-e879-4bd3-e768-3661b65cafab",
        "colab": {
          "base_uri": "https://localhost:8080/"
        }
      },
      "source": [
        "train.head()"
      ],
      "execution_count": null,
      "outputs": [
        {
          "output_type": "execute_result",
          "data": {
            "text/html": [
              "<div>\n",
              "<style scoped>\n",
              "    .dataframe tbody tr th:only-of-type {\n",
              "        vertical-align: middle;\n",
              "    }\n",
              "\n",
              "    .dataframe tbody tr th {\n",
              "        vertical-align: top;\n",
              "    }\n",
              "\n",
              "    .dataframe thead th {\n",
              "        text-align: right;\n",
              "    }\n",
              "</style>\n",
              "<table border=\"1\" class=\"dataframe\">\n",
              "  <thead>\n",
              "    <tr style=\"text-align: right;\">\n",
              "      <th></th>\n",
              "      <th>Unnamed: 0</th>\n",
              "      <th>body</th>\n",
              "      <th>score.x</th>\n",
              "      <th>parent_id.x</th>\n",
              "      <th>id</th>\n",
              "      <th>created_utc.x</th>\n",
              "      <th>retrieved_on</th>\n",
              "      <th>REMOVED</th>\n",
              "      <th>punctuations</th>\n",
              "      <th>URL</th>\n",
              "      <th>HTML</th>\n",
              "      <th>capWords</th>\n",
              "      <th>charLen</th>\n",
              "      <th>wordCount</th>\n",
              "    </tr>\n",
              "  </thead>\n",
              "  <tbody>\n",
              "    <tr>\n",
              "      <th>0</th>\n",
              "      <td>1</td>\n",
              "      <td>I've always been taught it emerged from the ea...</td>\n",
              "      <td>2</td>\n",
              "      <td>t3_81u15i</td>\n",
              "      <td>dv551g6</td>\n",
              "      <td>1520121101</td>\n",
              "      <td>1524782256</td>\n",
              "      <td>False</td>\n",
              "      <td>2</td>\n",
              "      <td>0</td>\n",
              "      <td>0</td>\n",
              "      <td>0</td>\n",
              "      <td>125</td>\n",
              "      <td>22</td>\n",
              "    </tr>\n",
              "    <tr>\n",
              "      <th>1</th>\n",
              "      <td>2</td>\n",
              "      <td>As an ECE, my first feeling as \"HEY THAT'S NOT...</td>\n",
              "      <td>2</td>\n",
              "      <td>t3_72sk35</td>\n",
              "      <td>dnl66g6</td>\n",
              "      <td>1506533157</td>\n",
              "      <td>1507150439</td>\n",
              "      <td>True</td>\n",
              "      <td>10</td>\n",
              "      <td>0</td>\n",
              "      <td>0</td>\n",
              "      <td>5</td>\n",
              "      <td>229</td>\n",
              "      <td>39</td>\n",
              "    </tr>\n",
              "    <tr>\n",
              "      <th>2</th>\n",
              "      <td>3</td>\n",
              "      <td>Monday: Drug companies stock dives on good new...</td>\n",
              "      <td>5</td>\n",
              "      <td>t3_8o88yr</td>\n",
              "      <td>e02sjhz</td>\n",
              "      <td>1528087570</td>\n",
              "      <td>1532170350</td>\n",
              "      <td>True</td>\n",
              "      <td>2</td>\n",
              "      <td>0</td>\n",
              "      <td>0</td>\n",
              "      <td>0</td>\n",
              "      <td>61</td>\n",
              "      <td>10</td>\n",
              "    </tr>\n",
              "    <tr>\n",
              "      <th>3</th>\n",
              "      <td>4</td>\n",
              "      <td>i learned that all hybrids are unfertile i won...</td>\n",
              "      <td>0</td>\n",
              "      <td>t3_6xg9t8</td>\n",
              "      <td>dmfojjp</td>\n",
              "      <td>1504290041</td>\n",
              "      <td>1506407514</td>\n",
              "      <td>False</td>\n",
              "      <td>11</td>\n",
              "      <td>1</td>\n",
              "      <td>0</td>\n",
              "      <td>0</td>\n",
              "      <td>139</td>\n",
              "      <td>12</td>\n",
              "    </tr>\n",
              "    <tr>\n",
              "      <th>4</th>\n",
              "      <td>5</td>\n",
              "      <td>Well i was wanting to get wasted tonight.  Not...</td>\n",
              "      <td>3</td>\n",
              "      <td>t3_99wi9m</td>\n",
              "      <td>e4rtew8</td>\n",
              "      <td>1535140675</td>\n",
              "      <td>1537893540</td>\n",
              "      <td>False</td>\n",
              "      <td>4</td>\n",
              "      <td>0</td>\n",
              "      <td>0</td>\n",
              "      <td>0</td>\n",
              "      <td>84</td>\n",
              "      <td>15</td>\n",
              "    </tr>\n",
              "  </tbody>\n",
              "</table>\n",
              "</div>"
            ],
            "text/plain": [
              "   Unnamed: 0  ... wordCount\n",
              "0           1  ...        22\n",
              "1           2  ...        39\n",
              "2           3  ...        10\n",
              "3           4  ...        12\n",
              "4           5  ...        15\n",
              "\n",
              "[5 rows x 14 columns]"
            ]
          },
          "metadata": {
            "tags": []
          },
          "execution_count": 45
        }
      ]
    },
    {
      "cell_type": "markdown",
      "metadata": {
        "id": "A3RIPU0x-Q_5"
      },
      "source": [
        "###Expand Contractions for VADER sentiments"
      ]
    },
    {
      "cell_type": "code",
      "metadata": {
        "id": "y28U2Aim-UK7"
      },
      "source": [
        "# Contraction Map\n",
        "CONTRACTION_MAP = {\n",
        "\"ain't\": \"is not\",\n",
        "\"aren't\": \"are not\",\n",
        "\"can't\": \"cannot\",\n",
        "\"can't've\": \"cannot have\",\n",
        "\"'cause\": \"because\",\n",
        "\"could've\": \"could have\",\n",
        "\"couldn't\": \"could not\",\n",
        "\"couldn't've\": \"could not have\",\n",
        "\"didn't\": \"did not\",\n",
        "\"doesn't\": \"does not\",\n",
        "\"don't\": \"do not\",\n",
        "\"hadn't\": \"had not\",\n",
        "\"hadn't've\": \"had not have\",\n",
        "\"hasn't\": \"has not\",\n",
        "\"haven't\": \"have not\",\n",
        "\"he'd\": \"he would\",\n",
        "\"he'd've\": \"he would have\",\n",
        "\"he'll\": \"he will\",\n",
        "\"he'll've\": \"he will have\",\n",
        "\"he's\": \"he is\",\n",
        "\"how'd\": \"how did\",\n",
        "\"how'd'y\": \"how do you\",\n",
        "\"how'll\": \"how will\",\n",
        "\"how's\": \"how is\",\n",
        "\"I'd\": \"I would\",\n",
        "\"I'd've\": \"I would have\",\n",
        "\"I'll\": \"I will\",\n",
        "\"I'll've\": \"I will have\",\n",
        "\"I'm\": \"I am\",\n",
        "\"I've\": \"I have\",\n",
        "\"i'd\": \"i would\",\n",
        "\"i'd've\": \"i would have\",\n",
        "\"i'll\": \"i will\",\n",
        "\"i'll've\": \"i will have\",\n",
        "\"i'm\": \"i am\",\n",
        "\"i've\": \"i have\",\n",
        "\"isn't\": \"is not\",\n",
        "\"it'd\": \"it would\",\n",
        "\"it'd've\": \"it would have\",\n",
        "\"it'll\": \"it will\",\n",
        "\"it'll've\": \"it will have\",\n",
        "\"it's\": \"it is\",\n",
        "\"let's\": \"let us\",\n",
        "\"ma'am\": \"madam\",\n",
        "\"mayn't\": \"may not\",\n",
        "\"might've\": \"might have\",\n",
        "\"mightn't\": \"might not\",\n",
        "\"mightn't've\": \"might not have\",\n",
        "\"must've\": \"must have\",\n",
        "\"mustn't\": \"must not\",\n",
        "\"mustn't've\": \"must not have\",\n",
        "\"needn't\": \"need not\",\n",
        "\"needn't've\": \"need not have\",\n",
        "\"o'clock\": \"of the clock\",\n",
        "\"oughtn't\": \"ought not\",\n",
        "\"oughtn't've\": \"ought not have\",\n",
        "\"shan't\": \"shall not\",\n",
        "\"sha'n't\": \"shall not\",\n",
        "\"shan't've\": \"shall not have\",\n",
        "\"she'd\": \"she would\",\n",
        "\"she'd've\": \"she would have\",\n",
        "\"she'll\": \"she will\",\n",
        "\"she'll've\": \"she will have\",\n",
        "\"she's\": \"she is\",\n",
        "\"should've\": \"should have\",\n",
        "\"shouldn't\": \"should not\",\n",
        "\"shouldn't've\": \"should not have\",\n",
        "\"so've\": \"so have\",\n",
        "\"so's\": \"so as\",\n",
        "\"that'd\": \"that would\",\n",
        "\"that'd've\": \"that would have\",\n",
        "\"that's\": \"that is\",\n",
        "\"there'd\": \"there would\",\n",
        "\"there'd've\": \"there would have\",\n",
        "\"there's\": \"there is\",\n",
        "\"they'd\": \"they would\",\n",
        "\"they'd've\": \"they would have\",\n",
        "\"they'll\": \"they will\",\n",
        "\"they'll've\": \"they will have\",\n",
        "\"they're\": \"they are\",\n",
        "\"they've\": \"they have\",\n",
        "\"to've\": \"to have\",\n",
        "\"wasn't\": \"was not\",\n",
        "\"we'd\": \"we would\",\n",
        "\"we'd've\": \"we would have\",\n",
        "\"we'll\": \"we will\",\n",
        "\"we'll've\": \"we will have\",\n",
        "\"we're\": \"we are\",\n",
        "\"we've\": \"we have\",\n",
        "\"weren't\": \"were not\",\n",
        "\"what'll\": \"what will\",\n",
        "\"what'll've\": \"what will have\",\n",
        "\"what're\": \"what are\",\n",
        "\"what's\": \"what is\",\n",
        "\"what've\": \"what have\",\n",
        "\"when's\": \"when is\",\n",
        "\"when've\": \"when have\",\n",
        "\"where'd\": \"where did\",\n",
        "\"where's\": \"where is\",\n",
        "\"where've\": \"where have\",\n",
        "\"who'll\": \"who will\",\n",
        "\"who'll've\": \"who will have\",\n",
        "\"who's\": \"who is\",\n",
        "\"who've\": \"who have\",\n",
        "\"why's\": \"why is\",\n",
        "\"why've\": \"why have\",\n",
        "\"will've\": \"will have\",\n",
        "\"won't\": \"will not\",\n",
        "\"won't've\": \"will not have\",\n",
        "\"would've\": \"would have\",\n",
        "\"wouldn't\": \"would not\",\n",
        "\"wouldn't've\": \"would not have\",\n",
        "\"y'all\": \"you all\",\n",
        "\"y'all'd\": \"you all would\",\n",
        "\"y'all'd've\": \"you all would have\",\n",
        "\"y'all're\": \"you all are\",\n",
        "\"y'all've\": \"you all have\",\n",
        "\"you'd\": \"you would\",\n",
        "\"you'd've\": \"you would have\",\n",
        "\"you'll\": \"you will\",\n",
        "\"you'll've\": \"you will have\",\n",
        "\"you're\": \"you are\",\n",
        "\"you've\": \"you have\"\n",
        "}\n",
        "def expand_contractions(text, contraction_mapping=CONTRACTION_MAP):\n",
        "    \n",
        "    contractions_pattern = re.compile('({})'.format('|'.join(contraction_mapping.keys())), \n",
        "                                      flags=re.IGNORECASE|re.DOTALL)\n",
        "    # print(contractions_pattern)\n",
        "    def expand_match(contraction):\n",
        "        match = contraction.group(0)\n",
        "        first_char = match[0]\n",
        "        expanded_contraction = contraction_mapping.get(match)\\\n",
        "                                if contraction_mapping.get(match)\\\n",
        "                                else contraction_mapping.get(match.lower())                       \n",
        "        expanded_contraction = first_char+expanded_contraction[1:]\n",
        "        return expanded_contraction\n",
        "    \n",
        "    expanded_text = contractions_pattern.sub(expand_match, text)\n",
        "    # print(expanded_text) \n",
        "    expanded_text = re.sub(\"'\", \"\", expanded_text)\n",
        "    # print(expanded_text) \n",
        "    return expanded_text"
      ],
      "execution_count": null,
      "outputs": []
    },
    {
      "cell_type": "markdown",
      "metadata": {
        "id": "aRc-g06O-vDG"
      },
      "source": [
        "###Expand Train and Test text"
      ]
    },
    {
      "cell_type": "code",
      "metadata": {
        "id": "EtcEmBJE-fqf"
      },
      "source": [
        "train['body']=train['body'].apply(lambda x: expand_contractions(x)).copy()"
      ],
      "execution_count": null,
      "outputs": []
    },
    {
      "cell_type": "code",
      "metadata": {
        "id": "-RPrLJZV-5iM",
        "outputId": "dec019e1-5b6f-4d57-d818-1609b01db9ae",
        "colab": {
          "base_uri": "https://localhost:8080/"
        }
      },
      "source": [
        "train.head()"
      ],
      "execution_count": null,
      "outputs": [
        {
          "output_type": "execute_result",
          "data": {
            "text/html": [
              "<div>\n",
              "<style scoped>\n",
              "    .dataframe tbody tr th:only-of-type {\n",
              "        vertical-align: middle;\n",
              "    }\n",
              "\n",
              "    .dataframe tbody tr th {\n",
              "        vertical-align: top;\n",
              "    }\n",
              "\n",
              "    .dataframe thead th {\n",
              "        text-align: right;\n",
              "    }\n",
              "</style>\n",
              "<table border=\"1\" class=\"dataframe\">\n",
              "  <thead>\n",
              "    <tr style=\"text-align: right;\">\n",
              "      <th></th>\n",
              "      <th>Unnamed: 0</th>\n",
              "      <th>body</th>\n",
              "      <th>score.x</th>\n",
              "      <th>parent_id.x</th>\n",
              "      <th>id</th>\n",
              "      <th>created_utc.x</th>\n",
              "      <th>retrieved_on</th>\n",
              "      <th>REMOVED</th>\n",
              "      <th>punctuations</th>\n",
              "      <th>URL</th>\n",
              "      <th>HTML</th>\n",
              "      <th>capWords</th>\n",
              "      <th>charLen</th>\n",
              "      <th>wordCount</th>\n",
              "    </tr>\n",
              "  </thead>\n",
              "  <tbody>\n",
              "    <tr>\n",
              "      <th>0</th>\n",
              "      <td>1</td>\n",
              "      <td>I have always been taught it emerged from the ...</td>\n",
              "      <td>2</td>\n",
              "      <td>t3_81u15i</td>\n",
              "      <td>dv551g6</td>\n",
              "      <td>1520121101</td>\n",
              "      <td>1524782256</td>\n",
              "      <td>False</td>\n",
              "      <td>2</td>\n",
              "      <td>0</td>\n",
              "      <td>0</td>\n",
              "      <td>0</td>\n",
              "      <td>125</td>\n",
              "      <td>22</td>\n",
              "    </tr>\n",
              "    <tr>\n",
              "      <th>1</th>\n",
              "      <td>2</td>\n",
              "      <td>As an ECE, my first feeling as \"HEY That is NO...</td>\n",
              "      <td>2</td>\n",
              "      <td>t3_72sk35</td>\n",
              "      <td>dnl66g6</td>\n",
              "      <td>1506533157</td>\n",
              "      <td>1507150439</td>\n",
              "      <td>True</td>\n",
              "      <td>10</td>\n",
              "      <td>0</td>\n",
              "      <td>0</td>\n",
              "      <td>5</td>\n",
              "      <td>229</td>\n",
              "      <td>39</td>\n",
              "    </tr>\n",
              "    <tr>\n",
              "      <th>2</th>\n",
              "      <td>3</td>\n",
              "      <td>Monday: Drug companies stock dives on good new...</td>\n",
              "      <td>5</td>\n",
              "      <td>t3_8o88yr</td>\n",
              "      <td>e02sjhz</td>\n",
              "      <td>1528087570</td>\n",
              "      <td>1532170350</td>\n",
              "      <td>True</td>\n",
              "      <td>2</td>\n",
              "      <td>0</td>\n",
              "      <td>0</td>\n",
              "      <td>0</td>\n",
              "      <td>61</td>\n",
              "      <td>10</td>\n",
              "    </tr>\n",
              "    <tr>\n",
              "      <th>3</th>\n",
              "      <td>4</td>\n",
              "      <td>i learned that all hybrids are unfertile i won...</td>\n",
              "      <td>0</td>\n",
              "      <td>t3_6xg9t8</td>\n",
              "      <td>dmfojjp</td>\n",
              "      <td>1504290041</td>\n",
              "      <td>1506407514</td>\n",
              "      <td>False</td>\n",
              "      <td>11</td>\n",
              "      <td>1</td>\n",
              "      <td>0</td>\n",
              "      <td>0</td>\n",
              "      <td>139</td>\n",
              "      <td>12</td>\n",
              "    </tr>\n",
              "    <tr>\n",
              "      <th>4</th>\n",
              "      <td>5</td>\n",
              "      <td>Well i was wanting to get wasted tonight.  Not...</td>\n",
              "      <td>3</td>\n",
              "      <td>t3_99wi9m</td>\n",
              "      <td>e4rtew8</td>\n",
              "      <td>1535140675</td>\n",
              "      <td>1537893540</td>\n",
              "      <td>False</td>\n",
              "      <td>4</td>\n",
              "      <td>0</td>\n",
              "      <td>0</td>\n",
              "      <td>0</td>\n",
              "      <td>84</td>\n",
              "      <td>15</td>\n",
              "    </tr>\n",
              "  </tbody>\n",
              "</table>\n",
              "</div>"
            ],
            "text/plain": [
              "   Unnamed: 0  ... wordCount\n",
              "0           1  ...        22\n",
              "1           2  ...        39\n",
              "2           3  ...        10\n",
              "3           4  ...        12\n",
              "4           5  ...        15\n",
              "\n",
              "[5 rows x 14 columns]"
            ]
          },
          "metadata": {
            "tags": []
          },
          "execution_count": 48
        }
      ]
    },
    {
      "cell_type": "markdown",
      "metadata": {
        "id": "fAZqMzPOCKol"
      },
      "source": [
        "###VADER sentiments as Features"
      ]
    },
    {
      "cell_type": "code",
      "metadata": {
        "id": "GM25-2gLDvEi",
        "outputId": "52c4b0ff-52e3-4a81-da65-eaf076466a77",
        "colab": {
          "base_uri": "https://localhost:8080/"
        }
      },
      "source": [
        "import nltk\n",
        "nltk.download('vader_lexicon')"
      ],
      "execution_count": null,
      "outputs": [
        {
          "output_type": "stream",
          "text": [
            "[nltk_data] Downloading package vader_lexicon to /root/nltk_data...\n"
          ],
          "name": "stdout"
        },
        {
          "output_type": "execute_result",
          "data": {
            "text/plain": [
              "True"
            ]
          },
          "metadata": {
            "tags": []
          },
          "execution_count": 49
        }
      ]
    },
    {
      "cell_type": "code",
      "metadata": {
        "id": "n9eGGyheCPNd",
        "outputId": "67c629a4-bdb0-413a-a71f-642dbb7fe51a",
        "colab": {
          "base_uri": "https://localhost:8080/"
        }
      },
      "source": [
        "from nltk.sentiment.vader import SentimentIntensityAnalyzer\n",
        "sid = SentimentIntensityAnalyzer()"
      ],
      "execution_count": null,
      "outputs": [
        {
          "output_type": "stream",
          "text": [
            "/usr/local/lib/python3.6/dist-packages/nltk/twitter/__init__.py:20: UserWarning: The twython library has not been installed. Some functionality from the twitter package will not be available.\n",
            "  warnings.warn(\"The twython library has not been installed. \"\n"
          ],
          "name": "stderr"
        }
      ]
    },
    {
      "cell_type": "code",
      "metadata": {
        "id": "eEUCVeIGRrHX"
      },
      "source": [
        "def vader_Scores(data):\n",
        "  v_Pos=[]\n",
        "  v_Neg=[]\n",
        "  v_Neu=[]\n",
        "  for idx in range(len(data)):\n",
        "    ss=sid.polarity_scores(data[idx])\n",
        "    v_Pos.append(ss['pos'])\n",
        "    v_Neg.append(ss['neg'])\n",
        "    v_Neu.append(ss['neu'])\n",
        "  pos_df= pd.DataFrame(data=pd.Series(v_Pos) ,columns=['vaderPos'])\n",
        "  neg_df= pd.DataFrame(data=pd.Series(v_Neg) ,columns=['vaderNeg'])\n",
        "  neu_df= pd.DataFrame(data=pd.Series(v_Neu) ,columns=['vaderNeu'])\n",
        "  senti= pd.concat([pos_df,neg_df,neu_df],ignore_index=False,axis=1)\n",
        "  return senti"
      ],
      "execution_count": null,
      "outputs": []
    },
    {
      "cell_type": "code",
      "metadata": {
        "id": "EQsk35OuS4eq"
      },
      "source": [
        "vader_sentiments= vader_Scores(train['body'])"
      ],
      "execution_count": null,
      "outputs": []
    },
    {
      "cell_type": "code",
      "metadata": {
        "id": "hE48V-piYj3s"
      },
      "source": [
        "train['vaderPos']=vader_sentiments['vaderPos']\n",
        "train['vaderNeg']=vader_sentiments['vaderNeg']\n",
        "train['vaderNeutral']=vader_sentiments['vaderNeu']"
      ],
      "execution_count": null,
      "outputs": []
    },
    {
      "cell_type": "code",
      "metadata": {
        "id": "i3kgBwfS18IB"
      },
      "source": [
        "vader_sentiments= vader_Scores(test['body'])"
      ],
      "execution_count": null,
      "outputs": []
    },
    {
      "cell_type": "code",
      "metadata": {
        "id": "GODDBQhW1_LG"
      },
      "source": [
        "test['vaderPos']=vader_sentiments['vaderPos']\n",
        "test['vaderNeg']=vader_sentiments['vaderNeg']\n",
        "test['vaderNeutral']=vader_sentiments['vaderNeu']"
      ],
      "execution_count": null,
      "outputs": []
    },
    {
      "cell_type": "code",
      "metadata": {
        "id": "Ld2K1oCRY2et",
        "outputId": "ef7ea175-c22d-4b29-ae94-7536124aea43",
        "colab": {
          "base_uri": "https://localhost:8080/"
        }
      },
      "source": [
        "train.head()"
      ],
      "execution_count": null,
      "outputs": [
        {
          "output_type": "execute_result",
          "data": {
            "text/html": [
              "<div>\n",
              "<style scoped>\n",
              "    .dataframe tbody tr th:only-of-type {\n",
              "        vertical-align: middle;\n",
              "    }\n",
              "\n",
              "    .dataframe tbody tr th {\n",
              "        vertical-align: top;\n",
              "    }\n",
              "\n",
              "    .dataframe thead th {\n",
              "        text-align: right;\n",
              "    }\n",
              "</style>\n",
              "<table border=\"1\" class=\"dataframe\">\n",
              "  <thead>\n",
              "    <tr style=\"text-align: right;\">\n",
              "      <th></th>\n",
              "      <th>Unnamed: 0</th>\n",
              "      <th>body</th>\n",
              "      <th>score.x</th>\n",
              "      <th>parent_id.x</th>\n",
              "      <th>id</th>\n",
              "      <th>created_utc.x</th>\n",
              "      <th>retrieved_on</th>\n",
              "      <th>REMOVED</th>\n",
              "      <th>punctuations</th>\n",
              "      <th>URL</th>\n",
              "      <th>HTML</th>\n",
              "      <th>capWords</th>\n",
              "      <th>charLen</th>\n",
              "      <th>wordCount</th>\n",
              "      <th>vaderPos</th>\n",
              "      <th>vaderNeg</th>\n",
              "      <th>vaderNeutral</th>\n",
              "    </tr>\n",
              "  </thead>\n",
              "  <tbody>\n",
              "    <tr>\n",
              "      <th>0</th>\n",
              "      <td>1</td>\n",
              "      <td>I have always been taught it emerged from the ...</td>\n",
              "      <td>2</td>\n",
              "      <td>t3_81u15i</td>\n",
              "      <td>dv551g6</td>\n",
              "      <td>1520121101</td>\n",
              "      <td>1524782256</td>\n",
              "      <td>False</td>\n",
              "      <td>2</td>\n",
              "      <td>0</td>\n",
              "      <td>0</td>\n",
              "      <td>0</td>\n",
              "      <td>125</td>\n",
              "      <td>22</td>\n",
              "      <td>0.000</td>\n",
              "      <td>0.000</td>\n",
              "      <td>1.000</td>\n",
              "    </tr>\n",
              "    <tr>\n",
              "      <th>1</th>\n",
              "      <td>2</td>\n",
              "      <td>As an ECE, my first feeling as \"HEY That is NO...</td>\n",
              "      <td>2</td>\n",
              "      <td>t3_72sk35</td>\n",
              "      <td>dnl66g6</td>\n",
              "      <td>1506533157</td>\n",
              "      <td>1507150439</td>\n",
              "      <td>True</td>\n",
              "      <td>10</td>\n",
              "      <td>0</td>\n",
              "      <td>0</td>\n",
              "      <td>5</td>\n",
              "      <td>229</td>\n",
              "      <td>39</td>\n",
              "      <td>0.089</td>\n",
              "      <td>0.000</td>\n",
              "      <td>0.911</td>\n",
              "    </tr>\n",
              "    <tr>\n",
              "      <th>2</th>\n",
              "      <td>3</td>\n",
              "      <td>Monday: Drug companies stock dives on good new...</td>\n",
              "      <td>5</td>\n",
              "      <td>t3_8o88yr</td>\n",
              "      <td>e02sjhz</td>\n",
              "      <td>1528087570</td>\n",
              "      <td>1532170350</td>\n",
              "      <td>True</td>\n",
              "      <td>2</td>\n",
              "      <td>0</td>\n",
              "      <td>0</td>\n",
              "      <td>0</td>\n",
              "      <td>61</td>\n",
              "      <td>10</td>\n",
              "      <td>0.244</td>\n",
              "      <td>0.000</td>\n",
              "      <td>0.756</td>\n",
              "    </tr>\n",
              "    <tr>\n",
              "      <th>3</th>\n",
              "      <td>4</td>\n",
              "      <td>i learned that all hybrids are unfertile i won...</td>\n",
              "      <td>0</td>\n",
              "      <td>t3_6xg9t8</td>\n",
              "      <td>dmfojjp</td>\n",
              "      <td>1504290041</td>\n",
              "      <td>1506407514</td>\n",
              "      <td>False</td>\n",
              "      <td>11</td>\n",
              "      <td>1</td>\n",
              "      <td>0</td>\n",
              "      <td>0</td>\n",
              "      <td>139</td>\n",
              "      <td>12</td>\n",
              "      <td>0.000</td>\n",
              "      <td>0.000</td>\n",
              "      <td>1.000</td>\n",
              "    </tr>\n",
              "    <tr>\n",
              "      <th>4</th>\n",
              "      <td>5</td>\n",
              "      <td>Well i was wanting to get wasted tonight.  Not...</td>\n",
              "      <td>3</td>\n",
              "      <td>t3_99wi9m</td>\n",
              "      <td>e4rtew8</td>\n",
              "      <td>1535140675</td>\n",
              "      <td>1537893540</td>\n",
              "      <td>False</td>\n",
              "      <td>4</td>\n",
              "      <td>0</td>\n",
              "      <td>0</td>\n",
              "      <td>0</td>\n",
              "      <td>84</td>\n",
              "      <td>15</td>\n",
              "      <td>0.121</td>\n",
              "      <td>0.185</td>\n",
              "      <td>0.694</td>\n",
              "    </tr>\n",
              "  </tbody>\n",
              "</table>\n",
              "</div>"
            ],
            "text/plain": [
              "   Unnamed: 0  ... vaderNeutral\n",
              "0           1  ...        1.000\n",
              "1           2  ...        0.911\n",
              "2           3  ...        0.756\n",
              "3           4  ...        1.000\n",
              "4           5  ...        0.694\n",
              "\n",
              "[5 rows x 17 columns]"
            ]
          },
          "metadata": {
            "tags": []
          },
          "execution_count": 56
        }
      ]
    },
    {
      "cell_type": "markdown",
      "metadata": {
        "id": "G0_u9jpcLy55"
      },
      "source": [
        "#Preprocessing"
      ]
    },
    {
      "cell_type": "markdown",
      "metadata": {
        "id": "3fW7vPuwVNjl"
      },
      "source": [
        "###Removing stopwords"
      ]
    },
    {
      "cell_type": "code",
      "metadata": {
        "id": "Pkas85N7agj8"
      },
      "source": [
        "stop=set(stopwords.words('english'))"
      ],
      "execution_count": null,
      "outputs": []
    },
    {
      "cell_type": "code",
      "metadata": {
        "id": "Vv_SA-JJU-y7"
      },
      "source": [
        "def remove_stopwords(text):\n",
        "  words= text.split()\n",
        "  newtext=[]\n",
        "  for w in words:\n",
        "    if w.lower() not in stop and w.lower().isalpha() :\n",
        "      newtext.append(w)\n",
        "  return \" \".join(newtext)"
      ],
      "execution_count": null,
      "outputs": []
    },
    {
      "cell_type": "code",
      "metadata": {
        "id": "mpdQgCXjaPIP"
      },
      "source": [
        "train['body']=train['body'].apply(lambda x: remove_stopwords(x))\n",
        "test['body']=test['body'].apply(lambda x: remove_stopwords(x))"
      ],
      "execution_count": null,
      "outputs": []
    },
    {
      "cell_type": "markdown",
      "metadata": {
        "id": "k2MAYvJD8DJR"
      },
      "source": [
        "###Lemmatization"
      ]
    },
    {
      "cell_type": "code",
      "metadata": {
        "id": "iO4GQvM58l99",
        "outputId": "73aa71b7-a714-45f6-b4be-82c69f4d6a4d",
        "colab": {
          "base_uri": "https://localhost:8080/"
        }
      },
      "source": [
        "nltk.download('wordnet')"
      ],
      "execution_count": null,
      "outputs": [
        {
          "output_type": "stream",
          "text": [
            "[nltk_data] Downloading package wordnet to /root/nltk_data...\n",
            "[nltk_data]   Unzipping corpora/wordnet.zip.\n"
          ],
          "name": "stdout"
        },
        {
          "output_type": "execute_result",
          "data": {
            "text/plain": [
              "True"
            ]
          },
          "metadata": {
            "tags": []
          },
          "execution_count": 60
        }
      ]
    },
    {
      "cell_type": "code",
      "metadata": {
        "id": "n2fFVpAE8K3d"
      },
      "source": [
        "lemm = nltk.stem.WordNetLemmatizer()"
      ],
      "execution_count": null,
      "outputs": []
    },
    {
      "cell_type": "code",
      "metadata": {
        "id": "ZwS1qeLZ8Han"
      },
      "source": [
        "def lemma(text):\n",
        "  words= text.split()\n",
        "  newtext=[]\n",
        "  for w in words:\n",
        "    newtext.append(lemm.lemmatize(w))\n",
        "  return \" \".join(newtext)"
      ],
      "execution_count": null,
      "outputs": []
    },
    {
      "cell_type": "code",
      "metadata": {
        "id": "RFn8Y7dq8ZZh"
      },
      "source": [
        "train['body']=train['body'].apply(lambda x: lemma(x))\n",
        "test['body']=test['body'].apply(lambda x: lemma(x))"
      ],
      "execution_count": null,
      "outputs": []
    },
    {
      "cell_type": "markdown",
      "metadata": {
        "id": "zGacdyi4bNgH"
      },
      "source": [
        "###Stemming"
      ]
    },
    {
      "cell_type": "code",
      "metadata": {
        "id": "HmfrEs-cbRzJ"
      },
      "source": [
        "from nltk.stem.porter import PorterStemmer\n",
        "porter_stemmer = PorterStemmer()"
      ],
      "execution_count": null,
      "outputs": []
    },
    {
      "cell_type": "code",
      "metadata": {
        "id": "PcQ-km_gbV9W"
      },
      "source": [
        "def stemm(text):\n",
        "  words= text.split()\n",
        "  newtext=[]\n",
        "  for w in words:\n",
        "    newtext.append(porter_stemmer.stem(w))\n",
        "  return \" \".join(newtext)"
      ],
      "execution_count": null,
      "outputs": []
    },
    {
      "cell_type": "code",
      "metadata": {
        "id": "ocDn5wxFcvG_"
      },
      "source": [
        "train['body']=train['body'].apply(lambda x: stemm(x))\n",
        "test['body']=test['body'].apply(lambda x: stemm(x))"
      ],
      "execution_count": null,
      "outputs": []
    },
    {
      "cell_type": "markdown",
      "metadata": {
        "id": "L-fb6Ec6_F0K"
      },
      "source": [
        "###Removing punctuations"
      ]
    },
    {
      "cell_type": "code",
      "metadata": {
        "id": "0JODUzTa_EPF"
      },
      "source": [
        "def remove_punct(text):\n",
        "    table=str.maketrans('','',string.punctuation)\n",
        "    return text.translate(table)"
      ],
      "execution_count": null,
      "outputs": []
    },
    {
      "cell_type": "code",
      "metadata": {
        "id": "Zr2dOMce_5Mv"
      },
      "source": [
        "train['body']= train['body'].apply(lambda x : remove_punct(x))\n",
        "test['body']= test['body'].apply(lambda x: remove_punct(x))"
      ],
      "execution_count": null,
      "outputs": []
    },
    {
      "cell_type": "markdown",
      "metadata": {
        "id": "pVMWj-04AVKG"
      },
      "source": [
        "###Removing URL"
      ]
    },
    {
      "cell_type": "code",
      "metadata": {
        "id": "IcZXeua8AXqP"
      },
      "source": [
        "def remove_URL(text):\n",
        "    url = re.compile(r'https?://\\S+|www\\.\\S+')\n",
        "    return url.sub(r'',text)"
      ],
      "execution_count": null,
      "outputs": []
    },
    {
      "cell_type": "code",
      "metadata": {
        "id": "Z_UAPM0-AbwP"
      },
      "source": [
        "train['body']= train['body'].apply(lambda x : remove_URL(x))\n",
        "test['body']= test['body'].apply(lambda x: remove_URL(x))"
      ],
      "execution_count": null,
      "outputs": []
    },
    {
      "cell_type": "markdown",
      "metadata": {
        "id": "EP9WmbQSApso"
      },
      "source": [
        "###Removing HTML"
      ]
    },
    {
      "cell_type": "code",
      "metadata": {
        "id": "wSlRE6GIAt3T"
      },
      "source": [
        "def remove_html(text):\n",
        "    html=re.compile(r'<.*?>')\n",
        "    return html.sub(r'',text)\n"
      ],
      "execution_count": null,
      "outputs": []
    },
    {
      "cell_type": "code",
      "metadata": {
        "id": "7eHQz1fwAx5I"
      },
      "source": [
        "train['body']= train['body'].apply(lambda x : remove_html(x))\n",
        "test['body']= test['body'].apply(lambda x: remove_html(x))"
      ],
      "execution_count": null,
      "outputs": []
    },
    {
      "cell_type": "markdown",
      "metadata": {
        "id": "INJojHAllrKj"
      },
      "source": [
        "###Fill empty string"
      ]
    },
    {
      "cell_type": "code",
      "metadata": {
        "id": "RDZbVL0mmzD3"
      },
      "source": [
        "list_indx=train[train['body']==''].index"
      ],
      "execution_count": null,
      "outputs": []
    },
    {
      "cell_type": "code",
      "metadata": {
        "id": "QurOGpmfm9jY"
      },
      "source": [
        "train.loc[list_indx,'body']='Nothing'"
      ],
      "execution_count": null,
      "outputs": []
    },
    {
      "cell_type": "code",
      "metadata": {
        "id": "LHF_jM1gze8N"
      },
      "source": [
        "list_indx=test[test['body']==''].index"
      ],
      "execution_count": null,
      "outputs": []
    },
    {
      "cell_type": "code",
      "metadata": {
        "id": "q3f5cmCVzhYG"
      },
      "source": [
        "test.loc[list_indx,'body']='Nothing'"
      ],
      "execution_count": null,
      "outputs": []
    },
    {
      "cell_type": "markdown",
      "metadata": {
        "id": "gRyw5ITFvIv0"
      },
      "source": [
        "###Train Test Split"
      ]
    },
    {
      "cell_type": "code",
      "metadata": {
        "id": "WeUEQuKivE0O"
      },
      "source": [
        "X_train= pd.DataFrame(train['body'].values,columns=['text'])\n",
        "y_train= pd.DataFrame(train['REMOVED'].values,columns=['label'])\n",
        "X_test= pd.DataFrame(test['body'].values,columns=['text'])\n",
        "y_test= pd.DataFrame(test['REMOVED'].values,columns=['label'])"
      ],
      "execution_count": null,
      "outputs": []
    },
    {
      "cell_type": "code",
      "metadata": {
        "id": "B1VO0b7ZvHNm"
      },
      "source": [
        "#Encoding labels\n",
        "y_train['label']=y_train['label'].apply(lambda x: 0 if x is False else 1)\n",
        "y_test['label']=y_test['label'].apply(lambda x: 0 if x is False else 1)"
      ],
      "execution_count": null,
      "outputs": []
    },
    {
      "cell_type": "markdown",
      "metadata": {
        "id": "AJJOs56cDWgb"
      },
      "source": [
        "#Get Metrics Function"
      ]
    },
    {
      "cell_type": "code",
      "metadata": {
        "id": "xCVR4QCyDbvX"
      },
      "source": [
        "from sklearn.metrics import accuracy_score,precision_score,recall_score,f1_score\n",
        "scores_dict=dict()\n",
        "def get_metrics(clf,X,y,feature_type):\n",
        "  y_pred= clf.predict(X)\n",
        "  scores_dict[feature_type]=np.round(f1_score(y, y_pred, average='weighted')*100,2)\n",
        "  print('Accuracy:  {:2.2%} '.format(accuracy_score(y, y_pred)))\n",
        "  print('Precision: {:2.2%} '.format(precision_score(y, y_pred, average='weighted')))\n",
        "  print('Recall:    {:2.2%} '.format(recall_score(y, y_pred, average='weighted')))\n",
        "  print('F1 Score:  {:2.2%} '.format(f1_score(y, y_pred, average='weighted')))"
      ],
      "execution_count": null,
      "outputs": []
    },
    {
      "cell_type": "markdown",
      "metadata": {
        "id": "lQZiB-_biha6"
      },
      "source": [
        "#Bag of words"
      ]
    },
    {
      "cell_type": "code",
      "metadata": {
        "id": "dyHDYwy2Lc3-",
        "outputId": "8ee03920-028c-417d-b3d7-592d9f25a857",
        "colab": {
          "base_uri": "https://localhost:8080/",
          "height": 34
        }
      },
      "source": [
        "vect = CountVectorizer(ngram_range=(1,1),stop_words=stop,min_df=2)\n",
        "X_train_vect= vect.fit_transform(X_train['text'])\n",
        "X_test_vect= vect.transform(X_test['text'])\n",
        "print(len(vect.get_feature_names()))"
      ],
      "execution_count": null,
      "outputs": [
        {
          "output_type": "stream",
          "text": [
            "23260\n"
          ],
          "name": "stdout"
        }
      ]
    },
    {
      "cell_type": "code",
      "metadata": {
        "id": "hCtLHdVIO2OJ"
      },
      "source": [
        "from sklearn.linear_model import LogisticRegression\n",
        "lr = LogisticRegression(max_iter=1000,C=0.01).fit(X_train_vect, y_train.values.ravel())"
      ],
      "execution_count": null,
      "outputs": []
    },
    {
      "cell_type": "code",
      "metadata": {
        "id": "vUDrAXYQQrXz",
        "outputId": "5515be9a-5b53-40d5-9937-50484a01876d",
        "colab": {
          "base_uri": "https://localhost:8080/"
        }
      },
      "source": [
        "get_metrics(lr,X_train_vect, y_train.values.ravel(),'BOW')"
      ],
      "execution_count": null,
      "outputs": [
        {
          "output_type": "stream",
          "text": [
            "Accuracy:  66.57% \n",
            "Precision: 66.13% \n",
            "Recall:    66.57% \n",
            "F1 Score:  62.75% \n"
          ],
          "name": "stdout"
        }
      ]
    },
    {
      "cell_type": "code",
      "metadata": {
        "id": "AVkXB6RkPFE_",
        "outputId": "39549ce2-ae0c-46f7-b774-f47147e41b5e",
        "colab": {
          "base_uri": "https://localhost:8080/"
        }
      },
      "source": [
        "get_metrics(lr,X_test_vect, y_test.values.ravel(),'BOW')"
      ],
      "execution_count": null,
      "outputs": [
        {
          "output_type": "stream",
          "text": [
            "Accuracy:  65.75% \n",
            "Precision: 64.56% \n",
            "Recall:    65.75% \n",
            "F1 Score:  61.84% \n"
          ],
          "name": "stdout"
        }
      ]
    },
    {
      "cell_type": "markdown",
      "metadata": {
        "id": "zaOnoZ5psUyE"
      },
      "source": [
        "#BoW with N-grams"
      ]
    },
    {
      "cell_type": "markdown",
      "metadata": {
        "id": "0Si7x0ZTxFz4"
      },
      "source": [
        "###Bigrams"
      ]
    },
    {
      "cell_type": "code",
      "metadata": {
        "id": "e8X6Z7K8P01v",
        "outputId": "7763b977-a494-426e-b2e1-e490a09b9462",
        "colab": {
          "base_uri": "https://localhost:8080/",
          "height": 34
        }
      },
      "source": [
        "vect = CountVectorizer(ngram_range=(1,2),stop_words=stop,min_df=2)\n",
        "X_train_vect= vect.fit_transform(X_train['text'])\n",
        "X_test_vect= vect.transform(X_test['text'])\n",
        "print(len(vect.get_feature_names()))"
      ],
      "execution_count": null,
      "outputs": [
        {
          "output_type": "stream",
          "text": [
            "323618\n"
          ],
          "name": "stdout"
        }
      ]
    },
    {
      "cell_type": "code",
      "metadata": {
        "id": "4HMvXknQxfLj"
      },
      "source": [
        "from sklearn.linear_model import LogisticRegression\n",
        "lr = LogisticRegression(max_iter=1000,C=0.1).fit(X_train_vect, y_train.values.ravel())"
      ],
      "execution_count": null,
      "outputs": []
    },
    {
      "cell_type": "code",
      "metadata": {
        "id": "NsrKA4uyxtGa",
        "outputId": "245026c5-df36-481a-b282-c7f4516aec1e",
        "colab": {
          "base_uri": "https://localhost:8080/",
          "height": 85
        }
      },
      "source": [
        "get_metrics(lr,X_train_vect, y_train.values.ravel(),'BOW bigram')"
      ],
      "execution_count": null,
      "outputs": [
        {
          "output_type": "stream",
          "text": [
            "Accuracy:  76.44% \n",
            "Precision: 76.56% \n",
            "Recall:    76.44% \n",
            "F1 Score:  75.46% \n"
          ],
          "name": "stdout"
        }
      ]
    },
    {
      "cell_type": "code",
      "metadata": {
        "id": "1E6qeulZxzDl",
        "outputId": "50c2e9fc-5cd8-499b-b49e-113d43ee11d6",
        "colab": {
          "base_uri": "https://localhost:8080/",
          "height": 85
        }
      },
      "source": [
        "get_metrics(lr,X_test_vect, y_test.values.ravel(),'BOW bigram')"
      ],
      "execution_count": null,
      "outputs": [
        {
          "output_type": "stream",
          "text": [
            "Accuracy:  66.89% \n",
            "Precision: 65.71% \n",
            "Recall:    66.89% \n",
            "F1 Score:  65.32% \n"
          ],
          "name": "stdout"
        }
      ]
    },
    {
      "cell_type": "markdown",
      "metadata": {
        "id": "Cnc1zUdmyVKH"
      },
      "source": [
        "###Trigrams"
      ]
    },
    {
      "cell_type": "code",
      "metadata": {
        "id": "guWF8-4kIUI0",
        "outputId": "59e08a04-7db1-44e3-9cb9-7593010355f9",
        "colab": {
          "base_uri": "https://localhost:8080/",
          "height": 34
        }
      },
      "source": [
        "vect = CountVectorizer(ngram_range=(3,3),min_df=2,stop_words=stop) #stop_words=\"english\"\n",
        "X_train_vect= vect.fit_transform(X_train['text'])\n",
        "X_test_vect= vect.transform(X_test['text'])\n",
        "print(len(vect.get_feature_names()))"
      ],
      "execution_count": null,
      "outputs": [
        {
          "output_type": "stream",
          "text": [
            "51308\n"
          ],
          "name": "stdout"
        }
      ]
    },
    {
      "cell_type": "code",
      "metadata": {
        "id": "V7HiHShzydjy"
      },
      "source": [
        "from sklearn.linear_model import LogisticRegression\n",
        "lr = LogisticRegression(max_iter=1000,C=1).fit(X_train_vect, y_train.values.ravel())"
      ],
      "execution_count": null,
      "outputs": []
    },
    {
      "cell_type": "code",
      "metadata": {
        "id": "SsZGmZg7I8mc",
        "outputId": "ac15a6d2-c04b-4fd3-854b-219298c46e7b",
        "colab": {
          "base_uri": "https://localhost:8080/",
          "height": 85
        }
      },
      "source": [
        "get_metrics(lr,X_train_vect, y_train.values.ravel(),'BOW Trigram')"
      ],
      "execution_count": null,
      "outputs": [
        {
          "output_type": "stream",
          "text": [
            "Accuracy:  65.68% \n",
            "Precision: 75.17% \n",
            "Recall:    65.68% \n",
            "F1 Score:  56.20% \n"
          ],
          "name": "stdout"
        }
      ]
    },
    {
      "cell_type": "code",
      "metadata": {
        "id": "9rjPa9vTI_ve",
        "outputId": "c2384592-b161-455b-99fb-2804e39c908c",
        "colab": {
          "base_uri": "https://localhost:8080/",
          "height": 85
        }
      },
      "source": [
        "get_metrics(lr,X_test_vect, y_test.values.ravel(),'BOW Trigram')"
      ],
      "execution_count": null,
      "outputs": [
        {
          "output_type": "stream",
          "text": [
            "Accuracy:  61.81% \n",
            "Precision: 56.84% \n",
            "Recall:    61.81% \n",
            "F1 Score:  49.26% \n"
          ],
          "name": "stdout"
        }
      ]
    },
    {
      "cell_type": "markdown",
      "metadata": {
        "id": "3wSMGHahsack"
      },
      "source": [
        "#BoW with char features"
      ]
    },
    {
      "cell_type": "code",
      "metadata": {
        "id": "FD9XPgjDsqrG",
        "outputId": "d11c4f29-6d2c-44db-b0e4-527eb923525b",
        "colab": {
          "base_uri": "https://localhost:8080/",
          "height": 34
        }
      },
      "source": [
        "vect = CountVectorizer(ngram_range=(2,4), analyzer=\"char\",min_df=2,stop_words=stop)\n",
        "X_train_vect= vect.fit_transform(X_train['text'])\n",
        "X_test_vect= vect.transform(X_test['text'])\n",
        "print(len(vect.get_feature_names()))"
      ],
      "execution_count": null,
      "outputs": [
        {
          "output_type": "stream",
          "text": [
            "60211\n"
          ],
          "name": "stdout"
        }
      ]
    },
    {
      "cell_type": "code",
      "metadata": {
        "id": "tO6nZsV20Svz"
      },
      "source": [
        "from sklearn.linear_model import LogisticRegression\n",
        "lr = LogisticRegression(max_iter=1000,C=0.01).fit(X_train_vect, y_train.values.ravel())"
      ],
      "execution_count": null,
      "outputs": []
    },
    {
      "cell_type": "code",
      "metadata": {
        "id": "W24O7wB66nM1",
        "outputId": "4fcfab71-85f0-4abd-8af9-7214c3ac7424",
        "colab": {
          "base_uri": "https://localhost:8080/",
          "height": 85
        }
      },
      "source": [
        "get_metrics(lr,X_train_vect, y_train.values.ravel(),'BOW char features')"
      ],
      "execution_count": null,
      "outputs": [
        {
          "output_type": "stream",
          "text": [
            "Accuracy:  69.58% \n",
            "Precision: 68.95% \n",
            "Recall:    69.58% \n",
            "F1 Score:  67.97% \n"
          ],
          "name": "stdout"
        }
      ]
    },
    {
      "cell_type": "code",
      "metadata": {
        "id": "XPBjbhPV3k1_",
        "outputId": "8e1e0342-28c6-4f03-ec56-fcbef212d32c",
        "colab": {
          "base_uri": "https://localhost:8080/",
          "height": 85
        }
      },
      "source": [
        "get_metrics(lr,X_test_vect, y_test.values.ravel(),'BOW char features')"
      ],
      "execution_count": null,
      "outputs": [
        {
          "output_type": "stream",
          "text": [
            "Accuracy:  66.19% \n",
            "Precision: 64.89% \n",
            "Recall:    66.19% \n",
            "F1 Score:  64.50% \n"
          ],
          "name": "stdout"
        }
      ]
    },
    {
      "cell_type": "markdown",
      "metadata": {
        "id": "wkZ61Oz73RWd"
      },
      "source": [
        "#TFIDF features"
      ]
    },
    {
      "cell_type": "code",
      "metadata": {
        "id": "Wr6EFzKg3RB1"
      },
      "source": [
        "from sklearn.feature_extraction.text import TfidfVectorizer"
      ],
      "execution_count": null,
      "outputs": []
    },
    {
      "cell_type": "code",
      "metadata": {
        "id": "d3v3qu8F3Yh4",
        "outputId": "49e92e1b-0d5f-41e0-ad22-79879c29b827",
        "colab": {
          "base_uri": "https://localhost:8080/",
          "height": 34
        }
      },
      "source": [
        "tf = TfidfVectorizer(ngram_range=(1,1),min_df=2,max_features=10000,stop_words=stop)\n",
        "X_train_tf= tf.fit_transform(X_train['text'])\n",
        "X_test_tf= tf.transform(X_test['text'])\n",
        "print(len(tf.get_feature_names()))"
      ],
      "execution_count": null,
      "outputs": [
        {
          "output_type": "stream",
          "text": [
            "10000\n"
          ],
          "name": "stdout"
        }
      ]
    },
    {
      "cell_type": "code",
      "metadata": {
        "id": "Utj7MZeQXzGY"
      },
      "source": [
        "from sklearn.linear_model import LogisticRegression\n",
        "lr = LogisticRegression(max_iter=1000,C=1).fit(X_train_tf, y_train.values.ravel())"
      ],
      "execution_count": null,
      "outputs": []
    },
    {
      "cell_type": "code",
      "metadata": {
        "id": "g248ENIqIMIN",
        "outputId": "0eb874ed-bff8-451d-8b4c-d2522a69000c",
        "colab": {
          "base_uri": "https://localhost:8080/",
          "height": 85
        }
      },
      "source": [
        "get_metrics(lr,X_train_tf, y_train.values.ravel(),'Tfidf one gram')"
      ],
      "execution_count": null,
      "outputs": [
        {
          "output_type": "stream",
          "text": [
            "Accuracy:  70.37% \n",
            "Precision: 69.71% \n",
            "Recall:    70.37% \n",
            "F1 Score:  69.52% \n"
          ],
          "name": "stdout"
        }
      ]
    },
    {
      "cell_type": "code",
      "metadata": {
        "id": "zZlkYtmCIOPy",
        "outputId": "9d804b2b-57be-4574-ce77-aec151a27b4c",
        "colab": {
          "base_uri": "https://localhost:8080/",
          "height": 85
        }
      },
      "source": [
        "get_metrics(lr,X_test_tf, y_test.values.ravel(),'Tfidf one gram')"
      ],
      "execution_count": null,
      "outputs": [
        {
          "output_type": "stream",
          "text": [
            "Accuracy:  67.59% \n",
            "Precision: 66.66% \n",
            "Recall:    67.59% \n",
            "F1 Score:  66.66% \n"
          ],
          "name": "stdout"
        }
      ]
    },
    {
      "cell_type": "markdown",
      "metadata": {
        "id": "vQG56SYQQOpW"
      },
      "source": [
        "###TFIDF Bigram"
      ]
    },
    {
      "cell_type": "code",
      "metadata": {
        "id": "zNUKL8E8P2bT",
        "outputId": "c6f90438-5cd8-4bb4-ad6f-0ea511cd1591",
        "colab": {
          "base_uri": "https://localhost:8080/",
          "height": 34
        }
      },
      "source": [
        "tf = TfidfVectorizer(ngram_range=(1,2),min_df=2,max_features=10000,stop_words=stop)\n",
        "X_train_tf= tf.fit_transform(X_train['text'])\n",
        "X_test_tf= tf.transform(X_test['text'])\n",
        "print(len(tf.get_feature_names()))"
      ],
      "execution_count": null,
      "outputs": [
        {
          "output_type": "stream",
          "text": [
            "10000\n"
          ],
          "name": "stdout"
        }
      ]
    },
    {
      "cell_type": "code",
      "metadata": {
        "id": "t_9DH9xpQDM0"
      },
      "source": [
        "from sklearn.linear_model import LogisticRegression\n",
        "lr = LogisticRegression(max_iter=1000,C=1).fit(X_train_tf, y_train.values.ravel())"
      ],
      "execution_count": null,
      "outputs": []
    },
    {
      "cell_type": "code",
      "metadata": {
        "id": "Lr39SQxiP7fW",
        "outputId": "4c78dfdc-1dc5-48c0-a242-7c84140c2552",
        "colab": {
          "base_uri": "https://localhost:8080/",
          "height": 85
        }
      },
      "source": [
        "get_metrics(lr,X_train_tf, y_train.values.ravel(),'Tfidf Bigram')"
      ],
      "execution_count": null,
      "outputs": [
        {
          "output_type": "stream",
          "text": [
            "Accuracy:  70.46% \n",
            "Precision: 69.81% \n",
            "Recall:    70.46% \n",
            "F1 Score:  69.64% \n"
          ],
          "name": "stdout"
        }
      ]
    },
    {
      "cell_type": "code",
      "metadata": {
        "id": "_f2l9i36QHoe",
        "outputId": "1b03873b-6a9c-4073-dcac-8263bf9db6b4",
        "colab": {
          "base_uri": "https://localhost:8080/",
          "height": 85
        }
      },
      "source": [
        "get_metrics(lr,X_test_tf, y_test.values.ravel(),'Tfidf Bigram')"
      ],
      "execution_count": null,
      "outputs": [
        {
          "output_type": "stream",
          "text": [
            "Accuracy:  67.42% \n",
            "Precision: 66.48% \n",
            "Recall:    67.42% \n",
            "F1 Score:  66.51% \n"
          ],
          "name": "stdout"
        }
      ]
    },
    {
      "cell_type": "markdown",
      "metadata": {
        "id": "v4fCDhVUx5Yt"
      },
      "source": [
        "#TFIDF with added new features"
      ]
    },
    {
      "cell_type": "code",
      "metadata": {
        "id": "jDXAaRZj2EUr"
      },
      "source": [
        "import scipy\n",
        "from scipy.sparse import csc_matrix, hstack\n",
        "from sklearn.preprocessing import StandardScaler"
      ],
      "execution_count": null,
      "outputs": []
    },
    {
      "cell_type": "code",
      "metadata": {
        "id": "wggKOCrby0nO"
      },
      "source": [
        "#Dense to sparse matrix convertion\n",
        "def dense_to_sparse(data,feature):\n",
        "  # return np.reshape(data[feature].ravel(),(len(data[feature]),1))\n",
        "  # scaled_data= scal.fit_transform(data[feature].values.reshape(-1,1))\n",
        "  return scipy.sparse.csc_matrix(data[feature].values.reshape(-1,1))\n",
        "  # return scipy.sparse.csc_matrix(scaled_data)"
      ],
      "execution_count": null,
      "outputs": []
    },
    {
      "cell_type": "code",
      "metadata": {
        "id": "ILWHjy8pyVSX"
      },
      "source": [
        "X_train_new= hstack([X_train_tf,\n",
        "                     dense_to_sparse(train,'punctuations'),\n",
        "                     dense_to_sparse(train,'URL'),\n",
        "                     dense_to_sparse(train,'HTML'),\n",
        "                     dense_to_sparse(train,'capWords'),\n",
        "                     dense_to_sparse(train,'charLen'),\n",
        "                     dense_to_sparse(train,'wordCount'),\n",
        "                     dense_to_sparse(train,'vaderPos'),\n",
        "                     dense_to_sparse(train,'vaderNeg'),\n",
        "                     dense_to_sparse(train,'vaderNeutral')])\n",
        "X_test_new= hstack([X_test_tf,\n",
        "                    dense_to_sparse(test,'punctuations'),\n",
        "                     dense_to_sparse(test,'URL'),\n",
        "                     dense_to_sparse(test,'HTML'),\n",
        "                     dense_to_sparse(test,'capWords'),\n",
        "                     dense_to_sparse(test,'charLen'),\n",
        "                     dense_to_sparse(test,'wordCount'),\n",
        "                     dense_to_sparse(test,'vaderPos'),\n",
        "                     dense_to_sparse(test,'vaderNeg'),\n",
        "                     dense_to_sparse(test,'vaderNeutral')])"
      ],
      "execution_count": null,
      "outputs": []
    },
    {
      "cell_type": "code",
      "metadata": {
        "id": "S-1qHZ8HcevN",
        "outputId": "25deffec-0ffc-454b-e5f9-6ac6c48bcc8a",
        "colab": {
          "base_uri": "https://localhost:8080/",
          "height": 34
        }
      },
      "source": [
        "X_train_new.shape "
      ],
      "execution_count": null,
      "outputs": [
        {
          "output_type": "execute_result",
          "data": {
            "text/plain": [
              "(167529, 10009)"
            ]
          },
          "metadata": {
            "tags": []
          },
          "execution_count": 103
        }
      ]
    },
    {
      "cell_type": "markdown",
      "metadata": {
        "id": "x9fwnWob0aMl"
      },
      "source": [
        "###Model evaluation"
      ]
    },
    {
      "cell_type": "code",
      "metadata": {
        "id": "HoWlcjWP2XIR"
      },
      "source": [
        "from sklearn.linear_model import LogisticRegression\n",
        "lr = LogisticRegression(max_iter=10000,C=1).fit(X_train_new, y_train.values.ravel())"
      ],
      "execution_count": null,
      "outputs": []
    },
    {
      "cell_type": "code",
      "metadata": {
        "id": "NT7zgxYOGHB2",
        "outputId": "181f0a6e-fa6e-4b07-8d41-47f6dccd2dd1",
        "colab": {
          "base_uri": "https://localhost:8080/",
          "height": 85
        }
      },
      "source": [
        "get_metrics(lr,X_train_new, y_train.values.ravel(),'TFIDF new_features')"
      ],
      "execution_count": null,
      "outputs": [
        {
          "output_type": "stream",
          "text": [
            "Accuracy:  70.33% \n",
            "Precision: 69.68% \n",
            "Recall:    70.33% \n",
            "F1 Score:  69.57% \n"
          ],
          "name": "stdout"
        }
      ]
    },
    {
      "cell_type": "code",
      "metadata": {
        "id": "FC3qjj-z2d-v",
        "outputId": "e912080c-89ec-4e68-f877-52e410aa3738",
        "colab": {
          "base_uri": "https://localhost:8080/",
          "height": 85
        }
      },
      "source": [
        "get_metrics(lr,X_test_new, y_test.values.ravel(),'TFIDF new_features')"
      ],
      "execution_count": null,
      "outputs": [
        {
          "output_type": "stream",
          "text": [
            "Accuracy:  67.98% \n",
            "Precision: 67.13% \n",
            "Recall:    67.98% \n",
            "F1 Score:  67.18% \n"
          ],
          "name": "stdout"
        }
      ]
    },
    {
      "cell_type": "markdown",
      "metadata": {
        "id": "egfFaq_fOB96"
      },
      "source": [
        "#LSA with TruncatedSVD"
      ]
    },
    {
      "cell_type": "code",
      "metadata": {
        "id": "-KIF8kzv307U",
        "outputId": "38398bbf-838d-479f-dfc3-a9f19a77be6c",
        "colab": {
          "base_uri": "https://localhost:8080/"
        }
      },
      "source": [
        "from sklearn.feature_extraction.text import CountVectorizer\n",
        "vect = CountVectorizer(stop_words=\"english\", min_df=4)\n",
        "X_train_vect = vect.fit_transform(X_train['text'])\n",
        "X_test_vect = vect.transform(X_test['text'])\n",
        "X_train_vect.shape"
      ],
      "execution_count": null,
      "outputs": [
        {
          "output_type": "execute_result",
          "data": {
            "text/plain": [
              "(167529, 15346)"
            ]
          },
          "metadata": {
            "tags": []
          },
          "execution_count": 107
        }
      ]
    },
    {
      "cell_type": "code",
      "metadata": {
        "id": "VtHCc8RyOAzX",
        "outputId": "8ebacfd2-5db1-495a-e679-c33a7b31ca84",
        "colab": {
          "base_uri": "https://localhost:8080/"
        }
      },
      "source": [
        "from sklearn.decomposition import TruncatedSVD\n",
        "lsa = TruncatedSVD(n_components=100)\n",
        "X_lsa_train = lsa.fit_transform(X_train_vect)\n",
        "X_lsa_test = lsa.transform(X_test_vect)\n",
        "lsa.components_.shape"
      ],
      "execution_count": null,
      "outputs": [
        {
          "output_type": "execute_result",
          "data": {
            "text/plain": [
              "(100, 15346)"
            ]
          },
          "metadata": {
            "tags": []
          },
          "execution_count": 108
        }
      ]
    },
    {
      "cell_type": "code",
      "metadata": {
        "id": "leyrUl8YPdIl",
        "outputId": "832ac311-4558-4f66-8e72-386c2c11cd1c",
        "colab": {
          "base_uri": "https://localhost:8080/"
        }
      },
      "source": [
        "lsa.components_"
      ],
      "execution_count": null,
      "outputs": [
        {
          "output_type": "execute_result",
          "data": {
            "text/plain": [
              "array([[ 1.60076726e-04,  1.03035514e-04,  2.56028479e-06, ...,\n",
              "         1.04510610e-04,  7.65056184e-05,  1.11372781e-04],\n",
              "       [-2.92462026e-06, -2.21532493e-06, -8.65305629e-09, ...,\n",
              "        -2.30922144e-06, -1.35065599e-06, -3.09017469e-06],\n",
              "       [-2.40666286e-04, -9.92482839e-05, -8.43518919e-06, ...,\n",
              "        -8.06761424e-08, -1.68461737e-04,  6.28139058e-05],\n",
              "       ...,\n",
              "       [-1.83539942e-04,  1.72194943e-04,  1.82817309e-05, ...,\n",
              "         2.13243104e-04, -4.20272270e-04, -1.83953413e-04],\n",
              "       [-2.14576353e-04, -2.30053621e-04, -5.94686239e-06, ...,\n",
              "         2.30010493e-04, -1.24633083e-04,  2.06179538e-04],\n",
              "       [ 4.01383002e-04, -4.90641543e-05, -2.32798104e-05, ...,\n",
              "        -2.29634410e-06, -9.01487028e-06,  4.84273888e-05]])"
            ]
          },
          "metadata": {
            "tags": []
          },
          "execution_count": 109
        }
      ]
    },
    {
      "cell_type": "markdown",
      "metadata": {
        "id": "yFjrx7BF0WiR"
      },
      "source": [
        "###Model Evaluation"
      ]
    },
    {
      "cell_type": "code",
      "metadata": {
        "id": "1yF8rKe5I2Us"
      },
      "source": [
        "from sklearn.linear_model import LogisticRegression\n",
        "lr = LogisticRegression(max_iter=10000,C=1).fit(X_lsa_train, y_train.values.ravel())"
      ],
      "execution_count": null,
      "outputs": []
    },
    {
      "cell_type": "code",
      "metadata": {
        "id": "FlLbtjNYVHjC",
        "outputId": "9b565a56-55c9-465b-a8a8-a4dd07cfe20b",
        "colab": {
          "base_uri": "https://localhost:8080/"
        }
      },
      "source": [
        "get_metrics(lr,X_lsa_train, y_train.values.ravel(),'TruncatedSVD')"
      ],
      "execution_count": null,
      "outputs": [
        {
          "output_type": "stream",
          "text": [
            "Accuracy:  62.83% \n",
            "Precision: 60.70% \n",
            "Recall:    62.83% \n",
            "F1 Score:  56.87% \n"
          ],
          "name": "stdout"
        }
      ]
    },
    {
      "cell_type": "code",
      "metadata": {
        "id": "HMQYsGbBVQHi",
        "outputId": "a988000e-f172-4386-ccde-fc85d12bd87f",
        "colab": {
          "base_uri": "https://localhost:8080/"
        }
      },
      "source": [
        "get_metrics(lr,X_lsa_test, y_test.values.ravel(),'TruncatedSVD')"
      ],
      "execution_count": null,
      "outputs": [
        {
          "output_type": "stream",
          "text": [
            "Accuracy:  62.93% \n",
            "Precision: 60.35% \n",
            "Recall:    62.93% \n",
            "F1 Score:  56.98% \n"
          ],
          "name": "stdout"
        }
      ]
    },
    {
      "cell_type": "markdown",
      "metadata": {
        "id": "Z9JLelY9Kva_"
      },
      "source": [
        "###Scaled feature model evaluation"
      ]
    },
    {
      "cell_type": "code",
      "metadata": {
        "id": "8wZAkuqlO8tE"
      },
      "source": [
        "from sklearn.preprocessing import MaxAbsScaler\n",
        "scaler = MaxAbsScaler()\n",
        "X_train_scaled = scaler.fit_transform(X_train_vect)\n",
        "X_test_scaled = scaler.transform(X_test_vect)"
      ],
      "execution_count": null,
      "outputs": []
    },
    {
      "cell_type": "code",
      "metadata": {
        "id": "gG06kcO2O-3h"
      },
      "source": [
        "lsa_scaled = TruncatedSVD(n_components=100)\n",
        "X_lsa_train_scaled = lsa_scaled.fit_transform(X_train_scaled)\n",
        "X_lsa_test_scaled = lsa_scaled.transform(X_test_scaled)"
      ],
      "execution_count": null,
      "outputs": []
    },
    {
      "cell_type": "code",
      "metadata": {
        "id": "vcwM0SnHT40E",
        "outputId": "075908b8-0fd0-42ad-f583-3feac0880005",
        "colab": {
          "base_uri": "https://localhost:8080/"
        }
      },
      "source": [
        "lsa_scaled.components_.shape"
      ],
      "execution_count": null,
      "outputs": [
        {
          "output_type": "execute_result",
          "data": {
            "text/plain": [
              "(100, 15346)"
            ]
          },
          "metadata": {
            "tags": []
          },
          "execution_count": 115
        }
      ]
    },
    {
      "cell_type": "code",
      "metadata": {
        "id": "4skTgEZ0T8M7",
        "outputId": "68a312d7-7ed8-4d55-dc37-45136defe71d",
        "colab": {
          "base_uri": "https://localhost:8080/"
        }
      },
      "source": [
        "plt.semilogy(lsa.explained_variance_ratio_)\n",
        "plt.xlabel(\"Components\")\n",
        "plt.ylabel(\"Variance\")\n",
        "plt.title(\"Explianed Variance Ratio\")\n",
        "\n",
        "plt.tight_layout()"
      ],
      "execution_count": null,
      "outputs": [
        {
          "output_type": "display_data",
          "data": {
            "image/png": "[encoded data removed]",
            "text/plain": [
              "<Figure size 432x288 with 1 Axes>"
            ]
          },
          "metadata": {
            "tags": [],
            "needs_background": "light"
          }
        }
      ]
    },
    {
      "cell_type": "code",
      "metadata": {
        "id": "MetE3dcoKstc"
      },
      "source": [
        "from sklearn.linear_model import LogisticRegression\n",
        "lr = LogisticRegression(max_iter=10000,C=1).fit(X_lsa_train_scaled, y_train.values.ravel())"
      ],
      "execution_count": null,
      "outputs": []
    },
    {
      "cell_type": "code",
      "metadata": {
        "id": "RmOQs4o_K1td",
        "outputId": "a3f2f1c5-b887-4c33-bfbf-1f78172d51b2",
        "colab": {
          "base_uri": "https://localhost:8080/"
        }
      },
      "source": [
        "get_metrics(lr,X_lsa_train_scaled, y_train.values.ravel(),'TruncatedSVD_scaled')"
      ],
      "execution_count": null,
      "outputs": [
        {
          "output_type": "stream",
          "text": [
            "Accuracy:  63.11% \n",
            "Precision: 61.34% \n",
            "Recall:    63.11% \n",
            "F1 Score:  56.72% \n"
          ],
          "name": "stdout"
        }
      ]
    },
    {
      "cell_type": "code",
      "metadata": {
        "id": "ih8BKQuPK5EP",
        "outputId": "ff5f301a-af60-41e2-da55-1cebca3a42a3",
        "colab": {
          "base_uri": "https://localhost:8080/"
        }
      },
      "source": [
        "get_metrics(lr,X_lsa_test_scaled, y_test.values.ravel(),'TruncatedSVD_scaled')"
      ],
      "execution_count": null,
      "outputs": [
        {
          "output_type": "stream",
          "text": [
            "Accuracy:  63.48% \n",
            "Precision: 61.44% \n",
            "Recall:    63.48% \n",
            "F1 Score:  57.16% \n"
          ],
          "name": "stdout"
        }
      ]
    },
    {
      "cell_type": "markdown",
      "metadata": {
        "id": "Uus1nF01hUNP"
      },
      "source": [
        "#LDA"
      ]
    },
    {
      "cell_type": "code",
      "metadata": {
        "id": "4ZLaI2Ol6kku",
        "outputId": "4126053c-8af6-41c7-9891-6ee016c369fe",
        "colab": {
          "base_uri": "https://localhost:8080/"
        }
      },
      "source": [
        "vect = CountVectorizer(ngram_range=(1,1),stop_words=stop,min_df=2)\n",
        "X_train_vect= vect.fit_transform(X_train['text'])\n",
        "X_test_vect= vect.transform(X_test['text'])\n",
        "print(len(vect.get_feature_names()))"
      ],
      "execution_count": null,
      "outputs": [
        {
          "output_type": "stream",
          "text": [
            "23248\n"
          ],
          "name": "stdout"
        }
      ]
    },
    {
      "cell_type": "code",
      "metadata": {
        "id": "FtQjdkSbhVdG"
      },
      "source": [
        "from sklearn.decomposition import LatentDirichletAllocation\n",
        "lda = LatentDirichletAllocation(n_components=25, learning_method=\"batch\")\n",
        "X_lda_train = lda.fit_transform(X_train_vect)\n",
        "X_lda_test = lda.transform(X_test_vect)"
      ],
      "execution_count": null,
      "outputs": []
    },
    {
      "cell_type": "markdown",
      "metadata": {
        "id": "KVPOigsgG9Ac"
      },
      "source": [
        "###Topics"
      ]
    },
    {
      "cell_type": "code",
      "metadata": {
        "id": "s9yIEaq5hYvm",
        "outputId": "a22b6725-40af-4e60-95dc-f3d9c5ad6c14",
        "colab": {
          "base_uri": "https://localhost:8080/"
        }
      },
      "source": [
        "n_top_words = 10\n",
        "topic_summaries = []\n",
        "# get topics and topic terms\n",
        "topic_word = lda.components_ \n",
        "vocab = vect.get_feature_names()\n",
        "for i, topic_dist in enumerate(topic_word):\n",
        "    topic_words = np.array(vocab)[np.argsort(topic_dist)][:-(n_top_words+1):-1]\n",
        "    topic_summaries.append(' '.join(topic_words))\n",
        "    print('Topic {}: {}'.format(i, ' | '.join(topic_words)))"
      ],
      "execution_count": null,
      "outputs": [
        {
          "output_type": "stream",
          "text": [
            "Topic 0: scienc | school | student | learn | educ | class | start | teach | commun | colleg\n",
            "Topic 1: child | parent | kid | nothing | suicid | mother | babi | sure | commit | father\n",
            "Topic 2: water | cost | rate | per | gun | increas | use | polic | ice | health\n",
            "Topic 3: cancer | kill | diseas | cure | caus | bacteria | death | eat | heart | gut\n",
            "Topic 4: associ | link | increas | journal | effect | use | risk | result | may | measur\n",
            "Topic 5: compani | fat | diet | use | govern | sugar | low | weight | food | obes\n",
            "Topic 6: word | person | oh | emot | use | posit | brain | neg | face | self\n",
            "Topic 7: play | game | use | video | solar | oil | bad | power | hate | planet\n",
            "Topic 8: woman | men | sex | gender | male | sexual | femal | like | mental | girl\n",
            "Topic 9: money | never | pay | big | wait | tax | tell | man | go | live\n",
            "Topic 10: drug | smoke | use | sound | mental | health | caus | take | cannabi | marijuana\n",
            "Topic 11: year | drink | alcohol | old | found | ago | speci | size | age | organ\n",
            "Topic 12: good | year | feel | thing | go | life | got | start | get | tri\n",
            "Topic 13: feel | post | remov | pleas | done | follow | hi | submiss | must | flair\n",
            "Topic 14: seem | differ | understand | interest | matter | theori | give | idea | someth | see\n",
            "Topic 15: life | new | dog | technolog | find | human | actual | wish | advanc | control\n",
            "Topic 16: social | thank | question | effect | use | medium | answer | term | research | much\n",
            "Topic 17: thought | wonder | medic | pain | back | use | year | guy | came | surgeri\n",
            "Topic 18: climat | chang | global | earth | warm | black | carbon | ocean | pollut | world\n",
            "Topic 19: go | comment | fuck | sleep | everi | shit | hour | surpris | reddit | top\n",
            "Topic 20: see | someth | believ | tri | religi | polit | look | religion | belief | conserv\n",
            "Topic 21: cell | brain | use | gene | genet | system | mous | develop | dna | function\n",
            "Topic 22: want | eat | doctor | go | food | day | take | vaccin | patient | tri\n",
            "Topic 23: articl | read | research | titl | correl | link | paper | data | news | test\n",
            "Topic 24: great | guess | job | vote | poor | support | stupid | rich | govern | american\n"
          ],
          "name": "stdout"
        }
      ]
    },
    {
      "cell_type": "markdown",
      "metadata": {
        "id": "tEKR_8utHFBB"
      },
      "source": [
        "###Model Evaluation"
      ]
    },
    {
      "cell_type": "code",
      "metadata": {
        "id": "zusAU_T2hfiu"
      },
      "source": [
        "from sklearn.linear_model import LogisticRegression\n",
        "lr = LogisticRegression(max_iter=1000,C=1).fit(X_lda_train, y_train.values.ravel())"
      ],
      "execution_count": null,
      "outputs": []
    },
    {
      "cell_type": "code",
      "metadata": {
        "id": "61ugk4xxS-Zm",
        "outputId": "00081aa4-ccaf-4806-952d-1bdbdc373fbd",
        "colab": {
          "base_uri": "https://localhost:8080/"
        }
      },
      "source": [
        "get_metrics(lr,X_lda_train,y_train.values.ravel(),'LDA')"
      ],
      "execution_count": null,
      "outputs": [
        {
          "output_type": "stream",
          "text": [
            "Accuracy:  62.95% \n",
            "Precision: 60.88% \n",
            "Recall:    62.95% \n",
            "F1 Score:  59.61% \n"
          ],
          "name": "stdout"
        }
      ]
    },
    {
      "cell_type": "code",
      "metadata": {
        "id": "P3r7fp85_Q5I",
        "outputId": "7cc86195-aac0-4657-ae39-c620c303c512",
        "colab": {
          "base_uri": "https://localhost:8080/"
        }
      },
      "source": [
        "get_metrics(lr,X_lda_test,y_test.values.ravel(),'LDA')"
      ],
      "execution_count": null,
      "outputs": [
        {
          "output_type": "stream",
          "text": [
            "Accuracy:  63.68% \n",
            "Precision: 61.58% \n",
            "Recall:    63.68% \n",
            "F1 Score:  60.14% \n"
          ],
          "name": "stdout"
        }
      ]
    },
    {
      "cell_type": "markdown",
      "metadata": {
        "id": "W5b4mjrlKExl"
      },
      "source": [
        "#Word embeddings spacy"
      ]
    },
    {
      "cell_type": "code",
      "metadata": {
        "id": "7TM8M6yn9cFT",
        "outputId": "2c0b519d-4b86-4784-8db2-62b30327b73b",
        "colab": {
          "base_uri": "https://localhost:8080/"
        }
      },
      "source": [
        "!python -m spacy download en_core_web_lg\n",
        "#https://stackoverflow.com/questions/56927602/unable-to-load-the-spacy-model-en-core-web-lg-on-google-colab"
      ],
      "execution_count": null,
      "outputs": [
        {
          "output_type": "stream",
          "text": [
            "Requirement already satisfied: en_core_web_lg==2.2.5 from https://github.com/explosion/spacy-models/releases/download/en_core_web_lg-2.2.5/en_core_web_lg-2.2.5.tar.gz#egg=en_core_web_lg==2.2.5 in /usr/local/lib/python3.6/dist-packages (2.2.5)\n",
            "Requirement already satisfied: spacy>=2.2.2 in /usr/local/lib/python3.6/dist-packages (from en_core_web_lg==2.2.5) (2.2.4)\n",
            "Requirement already satisfied: murmurhash<1.1.0,>=0.28.0 in /usr/local/lib/python3.6/dist-packages (from spacy>=2.2.2->en_core_web_lg==2.2.5) (1.0.2)\n",
            "Requirement already satisfied: cymem<2.1.0,>=2.0.2 in /usr/local/lib/python3.6/dist-packages (from spacy>=2.2.2->en_core_web_lg==2.2.5) (2.0.3)\n",
            "Requirement already satisfied: tqdm<5.0.0,>=4.38.0 in /usr/local/lib/python3.6/dist-packages (from spacy>=2.2.2->en_core_web_lg==2.2.5) (4.38.0)\n",
            "Requirement already satisfied: srsly<1.1.0,>=1.0.2 in /usr/local/lib/python3.6/dist-packages (from spacy>=2.2.2->en_core_web_lg==2.2.5) (1.0.2)\n",
            "Requirement already satisfied: setuptools in /usr/local/lib/python3.6/dist-packages (from spacy>=2.2.2->en_core_web_lg==2.2.5) (46.1.3)\n",
            "Requirement already satisfied: plac<1.2.0,>=0.9.6 in /usr/local/lib/python3.6/dist-packages (from spacy>=2.2.2->en_core_web_lg==2.2.5) (1.1.3)\n",
            "Requirement already satisfied: blis<0.5.0,>=0.4.0 in /usr/local/lib/python3.6/dist-packages (from spacy>=2.2.2->en_core_web_lg==2.2.5) (0.4.1)\n",
            "Requirement already satisfied: wasabi<1.1.0,>=0.4.0 in /usr/local/lib/python3.6/dist-packages (from spacy>=2.2.2->en_core_web_lg==2.2.5) (0.6.0)\n",
            "Requirement already satisfied: requests<3.0.0,>=2.13.0 in /usr/local/lib/python3.6/dist-packages (from spacy>=2.2.2->en_core_web_lg==2.2.5) (2.21.0)\n",
            "Requirement already satisfied: catalogue<1.1.0,>=0.0.7 in /usr/local/lib/python3.6/dist-packages (from spacy>=2.2.2->en_core_web_lg==2.2.5) (1.0.0)\n",
            "Requirement already satisfied: thinc==7.4.0 in /usr/local/lib/python3.6/dist-packages (from spacy>=2.2.2->en_core_web_lg==2.2.5) (7.4.0)\n",
            "Requirement already satisfied: preshed<3.1.0,>=3.0.2 in /usr/local/lib/python3.6/dist-packages (from spacy>=2.2.2->en_core_web_lg==2.2.5) (3.0.2)\n",
            "Requirement already satisfied: numpy>=1.15.0 in /usr/local/lib/python3.6/dist-packages (from spacy>=2.2.2->en_core_web_lg==2.2.5) (1.18.3)\n",
            "Requirement already satisfied: certifi>=2017.4.17 in /usr/local/lib/python3.6/dist-packages (from requests<3.0.0,>=2.13.0->spacy>=2.2.2->en_core_web_lg==2.2.5) (2020.4.5.1)\n",
            "Requirement already satisfied: idna<2.9,>=2.5 in /usr/local/lib/python3.6/dist-packages (from requests<3.0.0,>=2.13.0->spacy>=2.2.2->en_core_web_lg==2.2.5) (2.8)\n",
            "Requirement already satisfied: urllib3<1.25,>=1.21.1 in /usr/local/lib/python3.6/dist-packages (from requests<3.0.0,>=2.13.0->spacy>=2.2.2->en_core_web_lg==2.2.5) (1.24.3)\n",
            "Requirement already satisfied: chardet<3.1.0,>=3.0.2 in /usr/local/lib/python3.6/dist-packages (from requests<3.0.0,>=2.13.0->spacy>=2.2.2->en_core_web_lg==2.2.5) (3.0.4)\n",
            "Requirement already satisfied: importlib-metadata>=0.20; python_version < \"3.8\" in /usr/local/lib/python3.6/dist-packages (from catalogue<1.1.0,>=0.0.7->spacy>=2.2.2->en_core_web_lg==2.2.5) (1.6.0)\n",
            "Requirement already satisfied: zipp>=0.5 in /usr/local/lib/python3.6/dist-packages (from importlib-metadata>=0.20; python_version < \"3.8\"->catalogue<1.1.0,>=0.0.7->spacy>=2.2.2->en_core_web_lg==2.2.5) (3.1.0)\n",
            "\u001b[38;5;2m✔ Download and installation successful\u001b[0m\n",
            "You can now load the model via spacy.load('en_core_web_lg')\n"
          ],
          "name": "stdout"
        }
      ]
    },
    {
      "cell_type": "code",
      "metadata": {
        "id": "pXAzE2GTgtQl",
        "outputId": "de306a56-60ea-4191-8224-a7a3657e8ca2",
        "colab": {
          "base_uri": "https://localhost:8080/"
        }
      },
      "source": [
        "import spacy\n",
        "nlp = spacy.load(\"en_core_web_lg\", disable=[\"tagger\", \"parser\", \"ner\"])\n",
        "docs_train = [nlp(d).vector for d in train['body']]\n",
        "X_train_emb = np.vstack(docs_train)\n",
        "X_train_emb.shape"
      ],
      "execution_count": null,
      "outputs": [
        {
          "output_type": "execute_result",
          "data": {
            "text/plain": [
              "(167529, 300)"
            ]
          },
          "metadata": {
            "tags": []
          },
          "execution_count": 127
        }
      ]
    },
    {
      "cell_type": "code",
      "metadata": {
        "id": "oZn8RMPIBgvm",
        "outputId": "4d6cb1fb-e0fa-4227-ba6a-04d9d1a177ac",
        "colab": {
          "base_uri": "https://localhost:8080/"
        }
      },
      "source": [
        "docs_test = [nlp(d).vector for d in test['body']]\n",
        "X_test_emb = np.vstack(docs_test)\n",
        "X_test_emb.shape"
      ],
      "execution_count": null,
      "outputs": [
        {
          "output_type": "execute_result",
          "data": {
            "text/plain": [
              "(55843, 300)"
            ]
          },
          "metadata": {
            "tags": []
          },
          "execution_count": 128
        }
      ]
    },
    {
      "cell_type": "markdown",
      "metadata": {
        "id": "GgCGmyEZ02Oe"
      },
      "source": [
        "###Model evaluation"
      ]
    },
    {
      "cell_type": "code",
      "metadata": {
        "id": "mwsqADQQK2Nu"
      },
      "source": [
        "from sklearn.linear_model import LogisticRegression\n",
        "lr = LogisticRegression(max_iter=1000,C=1).fit(X_train_emb, y_train.values.ravel())"
      ],
      "execution_count": null,
      "outputs": []
    },
    {
      "cell_type": "code",
      "metadata": {
        "id": "wjLr97sxBSJE",
        "outputId": "7eb36210-2f47-4291-c168-229d8b7e5e34",
        "colab": {
          "base_uri": "https://localhost:8080/"
        }
      },
      "source": [
        "get_metrics(lr,X_train_emb, y_train.values.ravel(),'Spacy_wordEmb')"
      ],
      "execution_count": null,
      "outputs": [
        {
          "output_type": "stream",
          "text": [
            "Accuracy:  65.89% \n",
            "Precision: 64.83% \n",
            "Recall:    65.89% \n",
            "F1 Score:  62.70% \n"
          ],
          "name": "stdout"
        }
      ]
    },
    {
      "cell_type": "code",
      "metadata": {
        "id": "m3RXLdl6BZcM",
        "outputId": "e9783162-969b-46c4-80a4-ff6552f4a5f3",
        "colab": {
          "base_uri": "https://localhost:8080/"
        }
      },
      "source": [
        "get_metrics(lr,X_test_emb, y_test.values.ravel(),'Spacy_wordEmb')"
      ],
      "execution_count": null,
      "outputs": [
        {
          "output_type": "stream",
          "text": [
            "Accuracy:  66.13% \n",
            "Precision: 64.88% \n",
            "Recall:    66.13% \n",
            "F1 Score:  63.00% \n"
          ],
          "name": "stdout"
        }
      ]
    },
    {
      "cell_type": "markdown",
      "metadata": {
        "id": "YWGsgT7LzwZv"
      },
      "source": [
        "#Genism Word2Vec"
      ]
    },
    {
      "cell_type": "markdown",
      "metadata": {
        "id": "oKNl__VyBQv5"
      },
      "source": [
        "###Creating bigrams of common phrases"
      ]
    },
    {
      "cell_type": "code",
      "metadata": {
        "id": "RQdlOFLBBb0G"
      },
      "source": [
        "from gensim.models.phrases import Phrases, Phraser"
      ],
      "execution_count": null,
      "outputs": []
    },
    {
      "cell_type": "code",
      "metadata": {
        "id": "89Pp5KTeBd3s"
      },
      "source": [
        "#Phraser takes list of list of words as input\n",
        "sent = [row.split() for row in train['body']]"
      ],
      "execution_count": null,
      "outputs": []
    },
    {
      "cell_type": "code",
      "metadata": {
        "id": "l8BK7cYEtWIJ",
        "outputId": "3e459ceb-bc67-4e4b-a1d7-862c6c3db898",
        "colab": {
          "base_uri": "https://localhost:8080/"
        }
      },
      "source": [
        "len(sent)"
      ],
      "execution_count": null,
      "outputs": [
        {
          "output_type": "execute_result",
          "data": {
            "text/plain": [
              "167529"
            ]
          },
          "metadata": {
            "tags": []
          },
          "execution_count": 134
        }
      ]
    },
    {
      "cell_type": "code",
      "metadata": {
        "id": "cotcZPOQBmoX"
      },
      "source": [
        "#The goal of Phraser() is to cut down memory consumption of Phrases(), by discarding model state not strictly needed for the bigram detection task\n",
        "phrases = Phrases(sent, min_count=30, progress_per=10000)"
      ],
      "execution_count": null,
      "outputs": []
    },
    {
      "cell_type": "code",
      "metadata": {
        "id": "ifItyeWqB4_s"
      },
      "source": [
        "bigram = Phraser(phrases)"
      ],
      "execution_count": null,
      "outputs": []
    },
    {
      "cell_type": "code",
      "metadata": {
        "id": "4xlhZsI-CVuR"
      },
      "source": [
        "#Transform the corpus based on the bigrams detected:\n",
        "sentences = bigram[sent]"
      ],
      "execution_count": null,
      "outputs": []
    },
    {
      "cell_type": "code",
      "metadata": {
        "id": "OX5bckLQCeAJ",
        "outputId": "557c44cf-8021-440a-e005-040aa02865cd",
        "colab": {
          "base_uri": "https://localhost:8080/"
        }
      },
      "source": [
        "#Most frequent words\n",
        "word_freq = defaultdict(int)\n",
        "for sent in sentences:\n",
        "    for i in sent:\n",
        "        word_freq[i] += 1\n",
        "len(word_freq)"
      ],
      "execution_count": null,
      "outputs": [
        {
          "output_type": "execute_result",
          "data": {
            "text/plain": [
              "46378"
            ]
          },
          "metadata": {
            "tags": []
          },
          "execution_count": 138
        }
      ]
    },
    {
      "cell_type": "markdown",
      "metadata": {
        "id": "cC9yb2X-uiE1"
      },
      "source": [
        "Most frequent words"
      ]
    },
    {
      "cell_type": "code",
      "metadata": {
        "id": "ctbxezKAEG_y",
        "outputId": "c2f15102-e6fc-4e16-9147-21be224c946a",
        "colab": {
          "base_uri": "https://localhost:8080/"
        }
      },
      "source": [
        "sorted(word_freq, key=word_freq.get, reverse=True)[:10]"
      ],
      "execution_count": null,
      "outputs": [
        {
          "output_type": "execute_result",
          "data": {
            "text/plain": [
              "['use',\n",
              " 'go',\n",
              " 'see',\n",
              " 'much',\n",
              " 'want',\n",
              " 'take',\n",
              " 'year',\n",
              " 'seem',\n",
              " 'find',\n",
              " 'research']"
            ]
          },
          "metadata": {
            "tags": []
          },
          "execution_count": 139
        }
      ]
    },
    {
      "cell_type": "markdown",
      "metadata": {
        "id": "FRcS7uvluolB"
      },
      "source": [
        "###Training word2Vec from given dataset instead of pretrained embeddings"
      ]
    },
    {
      "cell_type": "code",
      "metadata": {
        "id": "qYDKmnyMGDlc"
      },
      "source": [
        "from gensim.corpora import Dictionary\n",
        "import multiprocessing\n",
        "from gensim.models import Word2Vec"
      ],
      "execution_count": null,
      "outputs": []
    },
    {
      "cell_type": "code",
      "metadata": {
        "id": "OynRDjDREWUf"
      },
      "source": [
        "cores = multiprocessing.cpu_count() # Count the number of cores in a computer"
      ],
      "execution_count": null,
      "outputs": []
    },
    {
      "cell_type": "code",
      "metadata": {
        "id": "sQOBNrax6avY"
      },
      "source": [
        "w2v_model = Word2Vec(min_count=20,\n",
        "                     window=2,\n",
        "                     size=300,\n",
        "                     sample=6e-5, \n",
        "                     alpha=0.03, \n",
        "                     min_alpha=0.0007, \n",
        "                     negative=20,\n",
        "                     workers=cores-1)"
      ],
      "execution_count": null,
      "outputs": []
    },
    {
      "cell_type": "code",
      "metadata": {
        "id": "xbxBBquj6q9w"
      },
      "source": [
        "# t = time()\n",
        "w2v_model.build_vocab(sentences, progress_per=10000)\n",
        "# print('Time to build vocab: {} mins'.format(round((time() - t) / 60, 2)))"
      ],
      "execution_count": null,
      "outputs": []
    },
    {
      "cell_type": "markdown",
      "metadata": {
        "id": "-5fRw6M0u0p5"
      },
      "source": [
        "Training model"
      ]
    },
    {
      "cell_type": "code",
      "metadata": {
        "id": "hm8jT7HVElfb",
        "outputId": "25a96ea5-5b07-4f12-a475-62a21f1e8190",
        "colab": {
          "base_uri": "https://localhost:8080/"
        }
      },
      "source": [
        "w2v_model.train(sentences, total_examples=w2v_model.corpus_count, epochs=30, report_delay=1)"
      ],
      "execution_count": null,
      "outputs": [
        {
          "output_type": "execute_result",
          "data": {
            "text/plain": [
              "(38528862, 72140670)"
            ]
          },
          "metadata": {
            "tags": []
          },
          "execution_count": 144
        }
      ]
    },
    {
      "cell_type": "markdown",
      "metadata": {
        "id": "haqLeOCqu3Sh"
      },
      "source": [
        "###Creating features from above trained word embeddings"
      ]
    },
    {
      "cell_type": "code",
      "metadata": {
        "id": "6YaN6OcbE1Jz"
      },
      "source": [
        "vocab= w2v_model.wv.vocab.keys()"
      ],
      "execution_count": null,
      "outputs": []
    },
    {
      "cell_type": "code",
      "metadata": {
        "id": "nxSedkm3v8FI"
      },
      "source": [
        "def create_corpus(data):\n",
        "  return [row.split() for row in data['body']]"
      ],
      "execution_count": null,
      "outputs": []
    },
    {
      "cell_type": "code",
      "metadata": {
        "id": "BwfNm6ejguHN"
      },
      "source": [
        "def create_wordEmbeddings(data):\n",
        "  corpus=create_corpus(data)\n",
        "  corpus_vectors = []\n",
        "  for words in corpus:\n",
        "      corpus_vectors.append([])\n",
        "      vec = np.zeros(w2v_model.vector_size)\n",
        "      nwords = 0\n",
        "      for word in words:\n",
        "          if word in vocab: \n",
        "              vec = np.add(vec, w2v_model[word])\n",
        "          nwords += 1\n",
        "      vec = np.divide(vec, nwords)\n",
        "      corpus_vectors[-1].append(vec.flatten())\n",
        "  print(len(corpus_vectors))\n",
        "  temp=[]\n",
        "  for s in corpus_vectors:\n",
        "    temp.append([])\n",
        "    for w in s[0]:\n",
        "        temp[-1].append(w)\n",
        "  X_wordEmb = pd.DataFrame(temp)\n",
        "  return X_wordEmb"
      ],
      "execution_count": null,
      "outputs": []
    },
    {
      "cell_type": "code",
      "metadata": {
        "id": "EKzBB4zFxvX5",
        "outputId": "224e7c6f-edf7-4f1d-b0e8-fd7347bfe766",
        "colab": {
          "base_uri": "https://localhost:8080/"
        }
      },
      "source": [
        "X_train_w2v=create_wordEmbeddings(train)\n",
        "X_test_w2v=create_wordEmbeddings(test)"
      ],
      "execution_count": null,
      "outputs": [
        {
          "output_type": "stream",
          "text": [
            "/usr/local/lib/python3.6/dist-packages/ipykernel_launcher.py:10: DeprecationWarning: Call to deprecated `__getitem__` (Method will be removed in 4.0.0, use self.wv.__getitem__() instead).\n",
            "  # Remove the CWD from sys.path while we load stuff.\n"
          ],
          "name": "stderr"
        },
        {
          "output_type": "stream",
          "text": [
            "167529\n",
            "55843\n"
          ],
          "name": "stdout"
        }
      ]
    },
    {
      "cell_type": "markdown",
      "metadata": {
        "id": "NhO8uvbd0J76"
      },
      "source": [
        "###Model evaluation"
      ]
    },
    {
      "cell_type": "code",
      "metadata": {
        "id": "ttp77s3EjI8x"
      },
      "source": [
        "from sklearn.linear_model import LogisticRegression\n",
        "lr = LogisticRegression(max_iter=1000,C=1).fit(X_train_w2v, y_train.values.ravel())"
      ],
      "execution_count": null,
      "outputs": []
    },
    {
      "cell_type": "code",
      "metadata": {
        "id": "w5xZQkivjkDR",
        "outputId": "5c9f9f10-c49e-47cf-82a9-da9518c7f75f",
        "colab": {
          "base_uri": "https://localhost:8080/"
        }
      },
      "source": [
        "get_metrics(lr,X_train_w2v, y_train.values.ravel(),'Word2Vec')"
      ],
      "execution_count": null,
      "outputs": [
        {
          "output_type": "stream",
          "text": [
            "Accuracy:  66.50% \n",
            "Precision: 65.37% \n",
            "Recall:    66.50% \n",
            "F1 Score:  64.63% \n"
          ],
          "name": "stdout"
        }
      ]
    },
    {
      "cell_type": "code",
      "metadata": {
        "id": "rnaBFzbVtuEV",
        "outputId": "9ab42b63-1c0e-4574-fdc5-ab2d4e6bc8a0",
        "colab": {
          "base_uri": "https://localhost:8080/"
        }
      },
      "source": [
        "get_metrics(lr,X_test_w2v, y_test.values.ravel(),'Word2Vec')"
      ],
      "execution_count": null,
      "outputs": [
        {
          "output_type": "stream",
          "text": [
            "Accuracy:  66.58% \n",
            "Precision: 65.32% \n",
            "Recall:    66.58% \n",
            "F1 Score:  64.70% \n"
          ],
          "name": "stdout"
        }
      ]
    },
    {
      "cell_type": "markdown",
      "metadata": {
        "id": "d3ZXnKKtdvrQ"
      },
      "source": [
        "###Pre trained Word2Vec"
      ]
    },
    {
      "cell_type": "code",
      "metadata": {
        "id": "0oAKwr11d3Dd"
      },
      "source": [
        "w2v_model_prt = Word2Vec(sentences=create_corpus(train),\n",
        "                     min_count=20,\n",
        "                     window=2,\n",
        "                     size=300,\n",
        "                     sample=6e-5, \n",
        "                     alpha=0.03, \n",
        "                     min_alpha=0.0007, \n",
        "                     negative=20,\n",
        "                     workers=cores-1)"
      ],
      "execution_count": null,
      "outputs": []
    },
    {
      "cell_type": "code",
      "metadata": {
        "id": "c40dZkFXexaa"
      },
      "source": [
        "def create_wordEmbeddings_ptrtrain(data):\n",
        "  corpus=create_corpus(data)\n",
        "  corpus_vectors = []\n",
        "  for words in corpus:\n",
        "      corpus_vectors.append([])\n",
        "      vec = np.zeros(w2v_model_prt.vector_size)\n",
        "      nwords = 0\n",
        "      for word in words:\n",
        "          if word in vocab: \n",
        "              vec = np.add(vec, w2v_model_prt[word])\n",
        "          nwords += 1\n",
        "      vec = np.divide(vec, nwords)\n",
        "      corpus_vectors[-1].append(vec.flatten())\n",
        "  print(len(corpus_vectors))\n",
        "  temp=[]\n",
        "  for s in corpus_vectors:\n",
        "    temp.append([])\n",
        "    for w in s[0]:\n",
        "        temp[-1].append(w)\n",
        "  X_wordEmb = pd.DataFrame(temp)\n",
        "  return X_wordEmb"
      ],
      "execution_count": null,
      "outputs": []
    },
    {
      "cell_type": "code",
      "metadata": {
        "id": "Kapij8X2e7KF",
        "outputId": "c79865b1-c3a0-4d1e-8db0-f26c918d0312",
        "colab": {
          "base_uri": "https://localhost:8080/",
          "height": 85
        }
      },
      "source": [
        "X_train_w2v_pt=create_wordEmbeddings_ptrtrain(train)\n",
        "X_test_w2v_pt=create_wordEmbeddings_ptrtrain(test)"
      ],
      "execution_count": null,
      "outputs": [
        {
          "output_type": "stream",
          "text": [
            "/usr/local/lib/python3.6/dist-packages/ipykernel_launcher.py:10: DeprecationWarning: Call to deprecated `__getitem__` (Method will be removed in 4.0.0, use self.wv.__getitem__() instead).\n",
            "  # Remove the CWD from sys.path while we load stuff.\n"
          ],
          "name": "stderr"
        },
        {
          "output_type": "stream",
          "text": [
            "167529\n",
            "55843\n"
          ],
          "name": "stdout"
        }
      ]
    },
    {
      "cell_type": "code",
      "metadata": {
        "id": "q249YVLbfEER"
      },
      "source": [
        "from sklearn.linear_model import LogisticRegression\n",
        "lr = LogisticRegression(max_iter=1000,C=1).fit(X_train_w2v_pt, y_train.values.ravel())"
      ],
      "execution_count": null,
      "outputs": []
    },
    {
      "cell_type": "code",
      "metadata": {
        "id": "KPZVig8BfGp3",
        "outputId": "48ee80bc-2eab-4a38-d509-f75c28f45735",
        "colab": {
          "base_uri": "https://localhost:8080/",
          "height": 85
        }
      },
      "source": [
        "get_metrics(lr,X_train_w2v_pt, y_train.values.ravel(),'Word2Vec-PreTrained')"
      ],
      "execution_count": null,
      "outputs": [
        {
          "output_type": "stream",
          "text": [
            "Accuracy:  65.66% \n",
            "Precision: 64.37% \n",
            "Recall:    65.66% \n",
            "F1 Score:  63.41% \n"
          ],
          "name": "stdout"
        }
      ]
    },
    {
      "cell_type": "code",
      "metadata": {
        "id": "jyAAs3mFfKY3",
        "outputId": "d0cd87fc-3849-405e-b21d-4de7da4a37e5",
        "colab": {
          "base_uri": "https://localhost:8080/",
          "height": 85
        }
      },
      "source": [
        "get_metrics(lr,X_test_w2v_pt, y_test.values.ravel(),'Word2Vec-PreTrained')"
      ],
      "execution_count": null,
      "outputs": [
        {
          "output_type": "stream",
          "text": [
            "Accuracy:  65.97% \n",
            "Precision: 64.58% \n",
            "Recall:    65.97% \n",
            "F1 Score:  63.74% \n"
          ],
          "name": "stdout"
        }
      ]
    },
    {
      "cell_type": "markdown",
      "metadata": {
        "id": "5HtZWPh812q3"
      },
      "source": [
        "#Summary"
      ]
    },
    {
      "cell_type": "code",
      "metadata": {
        "id": "r7QGrUyp14qf",
        "outputId": "3b932e84-7805-4d81-bd8c-dfcbd6f0f955",
        "colab": {
          "base_uri": "https://localhost:8080/",
          "height": 369
        }
      },
      "source": [
        "fig, axes = plt.subplots(1,1,figsize=(10,5))\n",
        "chart= sns.barplot(y=list(scores_dict.values()),x=list(scores_dict.keys()),ax=axes)\n",
        "chart.set_xticklabels(chart.get_xticklabels(), rotation=45)\n",
        "plt.title(\"F1 scores of different features\")\n",
        "plt.ylabel(\"F1 scores\")\n",
        "plt.tight_layout()"
      ],
      "execution_count": null,
      "outputs": [
        {
          "output_type": "display_data",
          "data": {
            "image/png": "[encoded data removed]",
            "text/plain": [
              "<Figure size 720x360 with 1 Axes>"
            ]
          },
          "metadata": {
            "tags": [],
            "needs_background": "light"
          }
        }
      ]
    },
    {
      "cell_type": "markdown",
      "metadata": {
        "id": "d2OQbp21bb9Z"
      },
      "source": [
        "###Top 3 scores and feature types"
      ]
    },
    {
      "cell_type": "code",
      "metadata": {
        "id": "jBUToFmfYZFZ",
        "outputId": "3429947c-933f-4cb1-ad5b-ca21e59b1f56",
        "colab": {
          "base_uri": "https://localhost:8080/",
          "height": 34
        }
      },
      "source": [
        "print(sorted(scores_dict.items(), key=lambda kv: kv[1],reverse=True)[:3])"
      ],
      "execution_count": null,
      "outputs": [
        {
          "output_type": "stream",
          "text": [
            "[('TFIDF new_features', 67.18), ('Tfidf one gram', 66.66), ('Tfidf Bigram', 66.51)]\n"
          ],
          "name": "stdout"
        }
      ]
    },
    {
      "cell_type": "markdown",
      "metadata": {
        "id": "x11TRht0h6zL"
      },
      "source": [
        "###Grid search for best model"
      ]
    },
    {
      "cell_type": "code",
      "metadata": {
        "id": "pn4EAUpGh9Oy"
      },
      "source": [
        "from sklearn.model_selection import GridSearchCV\n",
        "from sklearn.linear_model import LogisticRegression\n",
        "from sklearn.preprocessing import Normalizer\n",
        "from sklearn.pipeline import make_pipeline\n",
        "param_grid = {\"C\": [100, 10, 1, 0.1, 0.001]\n",
        "                           }\n",
        "grid = GridSearchCV(LogisticRegression(max_iter=10000,solver='liblinear'),\n",
        "                    param_grid=param_grid, cv=3, scoring=\"f1_macro\",verbose=1,n_jobs=1\n",
        "                   )"
      ],
      "execution_count": null,
      "outputs": []
    },
    {
      "cell_type": "code",
      "metadata": {
        "id": "QhlfrqE7inyS",
        "outputId": "c8482ab6-76f7-418b-ce26-2ef497ce7800",
        "colab": {
          "base_uri": "https://localhost:8080/",
          "height": 85
        }
      },
      "source": [
        "grid.fit(X_train_new,y_train.values.ravel())\n",
        "grid.best_params_"
      ],
      "execution_count": null,
      "outputs": [
        {
          "output_type": "stream",
          "text": [
            "Fitting 3 folds for each of 5 candidates, totalling 15 fits\n"
          ],
          "name": "stdout"
        },
        {
          "output_type": "stream",
          "text": [
            "[Parallel(n_jobs=1)]: Using backend SequentialBackend with 1 concurrent workers.\n",
            "[Parallel(n_jobs=1)]: Done  15 out of  15 | elapsed:   44.0s finished\n"
          ],
          "name": "stderr"
        },
        {
          "output_type": "execute_result",
          "data": {
            "text/plain": [
              "{'C': 100}"
            ]
          },
          "metadata": {
            "tags": []
          },
          "execution_count": 161
        }
      ]
    },
    {
      "cell_type": "code",
      "metadata": {
        "id": "8N2daGuXi416",
        "outputId": "e443c33a-4a3e-4b64-edb2-8ef984546f52",
        "colab": {
          "base_uri": "https://localhost:8080/",
          "height": 85
        }
      },
      "source": [
        "get_metrics(grid.best_estimator_,X_train_new,y_train.values.ravel(),'TFIDF best model')"
      ],
      "execution_count": null,
      "outputs": [
        {
          "output_type": "stream",
          "text": [
            "Accuracy:  70.91% \n",
            "Precision: 70.32% \n",
            "Recall:    70.91% \n",
            "F1 Score:  70.25% \n"
          ],
          "name": "stdout"
        }
      ]
    },
    {
      "cell_type": "markdown",
      "metadata": {
        "id": "6V5FSKWy8XlX"
      },
      "source": [
        "Acheived 71% accuracy and 70% f1 score with TFIDF with added new features"
      ]
    }
  ]
}